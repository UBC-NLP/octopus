{
  "cells": [
    {
      "cell_type": "markdown",
      "metadata": {
        "id": "HZPN0IdFGNiE"
      },
      "source": [
        "# OCTOPUS\n",
        "\n",
        "<p align=\"center\">\n",
        "    <br>\n",
        "    <img src=\"https://github.com/UBC-NLP/octopus/raw/main/images/octopus.jpg\" width=\"70%\" height=\"70%\"/>\n",
        "    <br>\n",
        "<p>\n",
        "Octopus is a neural machine generation toolkit for Arabic Natural Lnagauge Generation (NLG) that described in our ArabiNLP 2023 paper: [**OCTOPUS: A Multitask Model and Toolkit for Arabic Natural Language Generation**](https://arxiv.org/abs/2310.16127v1).\n",
        "\n",
        "Octopus designed for eight machine generation tasks, encompassing diacritization, grammatical error correction, news headlines generation, paraphrasing, question answering, question generation, and\n",
        "transliteration. This comprehensive package includes a Python library along with associated command-line scripts.\n",
        "\n",
        "---\n",
        "\n",
        "\n",
        "https://github.com/UBC-NLP/octopus"
      ]
    },
    {
      "cell_type": "markdown",
      "metadata": {
        "id": "tJoHT81iGYzh"
      },
      "source": [
        "## Install requirments"
      ]
    },
    {
      "cell_type": "code",
      "execution_count": 1,
      "metadata": {
        "colab": {
          "base_uri": "https://localhost:8080/"
        },
        "id": "KAztt3c2piuo",
        "outputId": "04386a1a-a158-49ca-dd77-472726cfbe2b"
      },
      "outputs": [
        {
          "output_type": "stream",
          "name": "stdout",
          "text": [
            "  Preparing metadata (setup.py) ... \u001b[?25l\u001b[?25hdone\n",
            "\u001b[2K     \u001b[90m━━━━━━━━━━━━━━━━━━━━━━━━━━━━━━━━━━━━━━━━\u001b[0m \u001b[32m1.3/1.3 MB\u001b[0m \u001b[31m5.1 MB/s\u001b[0m eta \u001b[36m0:00:00\u001b[0m\n",
            "\u001b[2K     \u001b[90m━━━━━━━━━━━━━━━━━━━━━━━━━━━━━━━━━━━━━━━━\u001b[0m \u001b[32m106.4/106.4 kB\u001b[0m \u001b[31m12.9 MB/s\u001b[0m eta \u001b[36m0:00:00\u001b[0m\n",
            "\u001b[2K     \u001b[90m━━━━━━━━━━━━━━━━━━━━━━━━━━━━━━━━━━━━━━━━\u001b[0m \u001b[32m265.7/265.7 kB\u001b[0m \u001b[31m30.9 MB/s\u001b[0m eta \u001b[36m0:00:00\u001b[0m\n",
            "\u001b[2K     \u001b[90m━━━━━━━━━━━━━━━━━━━━━━━━━━━━━━━━━━━━━━━━\u001b[0m \u001b[32m521.2/521.2 kB\u001b[0m \u001b[31m42.3 MB/s\u001b[0m eta \u001b[36m0:00:00\u001b[0m\n",
            "\u001b[2K     \u001b[90m━━━━━━━━━━━━━━━━━━━━━━━━━━━━━━━━━━━━━━━━\u001b[0m \u001b[32m115.3/115.3 kB\u001b[0m \u001b[31m16.2 MB/s\u001b[0m eta \u001b[36m0:00:00\u001b[0m\n",
            "\u001b[2K     \u001b[90m━━━━━━━━━━━━━━━━━━━━━━━━━━━━━━━━━━━━━━━━\u001b[0m \u001b[32m134.8/134.8 kB\u001b[0m \u001b[31m19.2 MB/s\u001b[0m eta \u001b[36m0:00:00\u001b[0m\n",
            "\u001b[?25h  Building wheel for octopus (setup.py) ... \u001b[?25l\u001b[?25hdone\n"
          ]
        }
      ],
      "source": [
        "!pip install -U git+https://github.com/UBC-NLP/octopus.git -q"
      ]
    },
    {
      "cell_type": "markdown",
      "metadata": {
        "id": "EWHjQ1vqGcX7"
      },
      "source": [
        "## Octopus Interactive Command Line Interface (CLI)\n",
        "- OCTOPUS's tasks:\n",
        "  - **Prefix**: `diacritize` **Task Name**: Diartization\n",
        "  - **Prefix**: `correct_grammar` **Task Name**: Grammatical Error Correction\n",
        "  - **Prefix**: `paraphrase` **Task Name**: Paraphrase\n",
        "  - **Prefix**: `answer_question` **Task Name**: Question Answering\n",
        "  - **Prefix**: `generate_question` **Task Name**: Question Generation\n",
        "  - **Prefix**: `summarize` **Task Name**: Summarization\n",
        "  - **Prefix**: `generate_title` **Task Name**: Title Generation\n",
        "  - **Prefix**: `translitrate_ar2en` **Task Name**: Translitration Arabic-to-English\n",
        "  - **Prefix**: `translitrate_en2ar` **Task Name**: Translitration English-to-Arabic\n",
        "- `octopus_interactive` command supports only beam search with the following default setting:\n",
        "  - **-s** or **--seq_length**: The maximum sequence length value, *default value is 300*\n",
        "  - **-o** or **--max_outputs**: The maximum of the output tanslations (*default value is 1*)\n",
        "  - **-b** or **--num_beams NUM_BEAMS**: Number of beams (*default value is 1*)\n",
        "  - **-n** or **--no_repeat_ngram_size**: Number of n-gram that doesn't appears twice (*default value is 2*)\n",
        "- `octopus_interactive` command asks you you to input translate your input text. Moreover, you can write q to exsit as shown in the following image.\n"
      ]
    },
    {
      "cell_type": "markdown",
      "metadata": {
        "id": "3VtXR82mGqKW"
      },
      "source": [
        "### (1) Usage and Arguments"
      ]
    },
    {
      "cell_type": "code",
      "execution_count": 2,
      "metadata": {
        "colab": {
          "base_uri": "https://localhost:8080/"
        },
        "id": "nO8QVs9AFJHe",
        "outputId": "c4a79685-a73c-44db-bdd7-e4c553d815ee"
      },
      "outputs": [
        {
          "output_type": "stream",
          "name": "stdout",
          "text": [
            "2023-12-05 00:10:08.529291: E tensorflow/compiler/xla/stream_executor/cuda/cuda_dnn.cc:9342] Unable to register cuDNN factory: Attempting to register factory for plugin cuDNN when one has already been registered\n",
            "2023-12-05 00:10:08.529369: E tensorflow/compiler/xla/stream_executor/cuda/cuda_fft.cc:609] Unable to register cuFFT factory: Attempting to register factory for plugin cuFFT when one has already been registered\n",
            "2023-12-05 00:10:08.529411: E tensorflow/compiler/xla/stream_executor/cuda/cuda_blas.cc:1518] Unable to register cuBLAS factory: Attempting to register factory for plugin cuBLAS when one has already been registered\n",
            "2023-12-05 00:10:09.534852: W tensorflow/compiler/tf2tensorrt/utils/py_utils.cc:38] TF-TRT Warning: Could not find TensorRT\n",
            "usage: octopus_interactive [-h] [-c CACHE_DIR]\n",
            "\n",
            "octopus Interactive CLI\n",
            "\n",
            "options:\n",
            "  -h, --help            show this help message and exit\n",
            "  -c CACHE_DIR, --cache_dir CACHE_DIR\n",
            "                        The cache directory path, default vlaue is octopus_cache directory\n"
          ]
        }
      ],
      "source": [
        "!octopus_interactive -h"
      ]
    },
    {
      "cell_type": "markdown",
      "metadata": {
        "id": "9-6rMOInKlGa"
      },
      "source": [
        "## (2) Octopus Interactive"
      ]
    },
    {
      "cell_type": "code",
      "execution_count": 3,
      "metadata": {
        "colab": {
          "base_uri": "https://localhost:8080/"
        },
        "id": "eQd_Ut5UplPg",
        "outputId": "1e0ad75d-7fb9-46d4-d49d-938c2a734598"
      },
      "outputs": [
        {
          "output_type": "stream",
          "name": "stdout",
          "text": [
            "2023-12-05 00:10:18.115701: E tensorflow/compiler/xla/stream_executor/cuda/cuda_dnn.cc:9342] Unable to register cuDNN factory: Attempting to register factory for plugin cuDNN when one has already been registered\n",
            "2023-12-05 00:10:18.115762: E tensorflow/compiler/xla/stream_executor/cuda/cuda_fft.cc:609] Unable to register cuFFT factory: Attempting to register factory for plugin cuFFT when one has already been registered\n",
            "2023-12-05 00:10:18.115807: E tensorflow/compiler/xla/stream_executor/cuda/cuda_blas.cc:1518] Unable to register cuBLAS factory: Attempting to register factory for plugin cuBLAS when one has already been registered\n",
            "2023-12-05 00:10:20.366605: W tensorflow/compiler/tf2tensorrt/utils/py_utils.cc:38] TF-TRT Warning: Could not find TensorRT\n",
            "2023-12-05 00:10:21 | INFO | octopus.interactive_cli | Namespace(cache_dir='./octopus_cache')\n",
            "2023-12-05 00:10:21 | INFO | octopus.interactive_cli | Loading model from UBC-NLP/octopus\n",
            "tokenizer_config.json: 100% 2.40k/2.40k [00:00<00:00, 14.1MB/s]\n",
            "spiece.model: 100% 2.35M/2.35M [00:00<00:00, 29.4MB/s]\n",
            "tokenizer.json: 100% 8.40M/8.40M [00:00<00:00, 27.2MB/s]\n",
            "special_tokens_map.json: 100% 2.20k/2.20k [00:00<00:00, 14.8MB/s]\n",
            "config.json: 100% 787/787 [00:00<00:00, 5.35MB/s]\n",
            "pytorch_model.bin: 100% 1.47G/1.47G [00:09<00:00, 160MB/s]\n",
            "generation_config.json: 100% 142/142 [00:00<00:00, 771kB/s]\n",
            "2023-12-05 00:10:38 | INFO | octopus.interactive_cli | Run the model with one-GPU 1\n",
            "2023-12-05 00:10:44 | INFO | octopus.interactive_cli | Loading tasks\n",
            "--------------------------------------------------\n",
            "OCTOPUS's tasks:\n",
            "--------------------------------------------------\n",
            "Prefix: [diacritize] Task Name: Diartization\n",
            "Prefix: [correct_grammar] Task Name: Grammatical Error Correction\n",
            "Prefix: [paraphrase] Task Name: Paraphrase\n",
            "Prefix: [answer_question] Task Name: Question Answering\n",
            "Prefix: [generate_question] Task Name: Question Generation\n",
            "Prefix: [summarize] Task Name: Summarization\n",
            "Prefix: [generate_title] Task Name: Title Generation\n",
            "Prefix: [translitrate_ar2en] Task Name: Translitration Arabic-to-English\n",
            "Prefix: [translitrate_en2ar] Task Name: Translitration English-to-Arabic\n",
            "\n",
            "Type your <task_prefix> followed by <text> or (q) to STOP: paraphrase: وزير الطاقة السعودي: طرح عطاءات طاقة متجددة بقدرة 20 غيغاوات في 2024\n",
            "2023-12-05 00:10:51 | INFO | octopus.interactive_cli | Task: Paraphrase\n",
            "2023-12-05 00:10:51 | INFO | octopus.interactive_cli | Using beam search\n",
            "2023-12-05 00:10:51 | INFO | octopus.interactive_cli | ** Copying input to cuda:0\n",
            "Output: وزير الطاقة السعودي: إطلاق عرض لشراء إمدادات الطاقة المتجددة بسعة 20 ميغاواط في عام 2024\n",
            "Type your <task_prefix> followed by <text> or (q) to STOP: q\n"
          ]
        }
      ],
      "source": [
        "!octopus_interactive"
      ]
    },
    {
      "cell_type": "code",
      "execution_count": 4,
      "metadata": {
        "id": "C8hSclpRpq14"
      },
      "outputs": [],
      "source": []
    },
    {
      "cell_type": "code",
      "source": [],
      "metadata": {
        "id": "B1OPL6ALTyxA"
      },
      "execution_count": null,
      "outputs": []
    }
  ],
  "metadata": {
    "colab": {
      "provenance": [],
      "gpuType": "T4"
    },
    "kernelspec": {
      "display_name": "Python 3",
      "name": "python3"
    },
    "language_info": {
      "codemirror_mode": {
        "name": "ipython",
        "version": 3
      },
      "file_extension": ".py",
      "mimetype": "text/x-python",
      "name": "python",
      "nbconvert_exporter": "python",
      "pygments_lexer": "ipython3",
      "version": "3.10.0"
    },
    "accelerator": "GPU"
  },
  "nbformat": 4,
  "nbformat_minor": 0
}