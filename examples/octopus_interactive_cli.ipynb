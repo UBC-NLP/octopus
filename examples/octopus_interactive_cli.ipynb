{
  "cells": [
    {
      "cell_type": "markdown",
      "metadata": {
        "id": "HZPN0IdFGNiE"
      },
      "source": [
        "# OCTOPUS\n",
        "\n",
        "<p align=\"center\">\n",
        "    <br>\n",
        "    <img src=\"https://github.com/UBC-NLP/octopus/raw/main/images/octopus.jpg\" width=\"70%\" height=\"70%\"/>\n",
        "    <br>\n",
        "<p>\n",
        "Octopus is a neural machine generation toolkit for Arabic Natural Lnagauge Generation (NLG) that described in our ArabiNLP 2023 paper: [**OCTOPUS: A Multitask Model and Toolkit for Arabic Natural Language Generation**](https://arxiv.org/abs/2310.16127v1). \n",
        "\n",
        "Octopus designed for eight machine generation tasks, encompassing diacritization, grammatical error correction, news headlines generation, paraphrasing, question answering, question generation, and\n",
        "transliteration. This comprehensive package includes a Python library along with associated command-line scripts.\n",
        "\n",
        "---\n",
        "\n",
        "\n",
        "https://github.com/UBC-NLP/octopus"
      ]
    },
    {
      "cell_type": "markdown",
      "metadata": {
        "id": "tJoHT81iGYzh"
      },
      "source": [
        "## Install requirments"
      ]
    },
    {
      "cell_type": "code",
      "execution_count": 3,
      "metadata": {
        "colab": {
          "base_uri": "https://localhost:8080/"
        },
        "id": "KAztt3c2piuo",
        "outputId": "12dbdd29-47d5-4488-d392-a095de4ec43a"
      },
      "outputs": [
        {
          "name": "stdout",
          "output_type": "stream",
          "text": [
            "Collecting elmadany@ git+https://github.com/UBC-NLP/octopus.git\n",
            "  Cloning https://github.com/UBC-NLP/octopus.git to /private/var/folders/7y/q9jr60x50zj5t2lbfrg8zj0w0000gn/T/pip-install-48kas1te/elmadany_7f20fab91eec4f11a967b6138fc819c2\n",
            "  Running command git clone --filter=blob:none --quiet https://github.com/UBC-NLP/octopus.git /private/var/folders/7y/q9jr60x50zj5t2lbfrg8zj0w0000gn/T/pip-install-48kas1te/elmadany_7f20fab91eec4f11a967b6138fc819c2\n",
            "Username for 'https://github.com': ^C\n",
            "\u001b[31mERROR: Operation cancelled by user\u001b[0m\u001b[31m\n",
            "\u001b[0m"
          ]
        }
      ],
      "source": [
        "!pip install -U git+https://github.com/UBC-NLP/octopus.git"
      ]
    },
    {
      "cell_type": "markdown",
      "metadata": {
        "id": "EWHjQ1vqGcX7"
      },
      "source": [
        "## Octopus Interactive Command Line Interface (CLI)\n",
        "- OCTOPUS's tasks:\n",
        "  - **Prefix**: `diacritize` **Task Name**: Diartization\n",
        "  - **Prefix**: `correct_grammar` **Task Name**: Grammatical Error Correction\n",
        "  - **Prefix**: `paraphrase` **Task Name**: Paraphrase\n",
        "  - **Prefix**: `answer_question` **Task Name**: Question Answering\n",
        "  - **Prefix**: `generate_question` **Task Name**: Question Generation\n",
        "  - **Prefix**: `summarize` **Task Name**: Summarization\n",
        "  - **Prefix**: `generate_title` **Task Name**: Title Generation\n",
        "  - **Prefix**: `translitrate_ar2en` **Task Name**: Translitration Arabic-to-English\n",
        "  - **Prefix**: `translitrate_en2ar` **Task Name**: Translitration English-to-Arabic\n",
        "- `octopus_interactive` command supports only beam search with the following default setting:\n",
        "  - **-s** or **--seq_length**: The maximum sequence length value, *default value is 300*\n",
        "  - **-o** or **--max_outputs**: The maximum of the output tanslations (*default value is 1*)\n",
        "  - **-b** or **--num_beams NUM_BEAMS**: Number of beams (*default value is 1*)\n",
        "  - **-n** or **--no_repeat_ngram_size**: Number of n-gram that doesn't appears twice (*default value is 2*)\n",
        "- `octopus_interactive` command asks you you to input translate your input text. Moreover, you can write q to exsit as shown in the following image.\n",
        "\n",
        "<img src='https://raw.githubusercontent.com/UBC-NLP/turjuman/main/examples/turjuman_interactive.jpg'>"
      ]
    },
    {
      "cell_type": "markdown",
      "metadata": {
        "id": "3VtXR82mGqKW"
      },
      "source": [
        "### (1) Usage and Arguments"
      ]
    },
    {
      "cell_type": "code",
      "execution_count": 4,
      "metadata": {
        "colab": {
          "base_uri": "https://localhost:8080/"
        },
        "id": "nO8QVs9AFJHe",
        "outputId": "805dd28a-303b-43d2-f03e-d0fcfec5a770"
      },
      "outputs": [
        {
          "name": "stdout",
          "output_type": "stream",
          "text": [
            "usage: octopus_interactive [-h] [-c CACHE_DIR]\n",
            "\n",
            "octopus Interactive CLI\n",
            "\n",
            "options:\n",
            "  -h, --help            show this help message and exit\n",
            "  -c CACHE_DIR, --cache_dir CACHE_DIR\n",
            "                        The cache directory path, default vlaue is\n",
            "                        turjuman_cache directory\n"
          ]
        }
      ],
      "source": [
        "!octopus_interactive -h"
      ]
    },
    {
      "cell_type": "markdown",
      "metadata": {
        "id": "9-6rMOInKlGa"
      },
      "source": [
        "## (2) Octopus Interactive"
      ]
    },
    {
      "cell_type": "code",
      "execution_count": 5,
      "metadata": {
        "colab": {
          "base_uri": "https://localhost:8080/"
        },
        "id": "eQd_Ut5UplPg",
        "outputId": "b62636bb-8382-496b-a910-1c8a2429019c"
      },
      "outputs": [
        {
          "name": "stdout",
          "output_type": "stream",
          "text": [
            "2023-12-03 04:36:47 | INFO | octopus.interactive_cli | Namespace(cache_dir='./octopus_cache')\n",
            "2023-12-03 04:36:47 | INFO | octopus.interactive_cli | Loading model from UBC-NLP/octopus\n",
            "tokenizer_config.json: 100%|███████████████| 2.40k/2.40k [00:00<00:00, 9.91MB/s]\n",
            "spiece.model: 100%|████████████████████████| 2.35M/2.35M [00:00<00:00, 24.0MB/s]\n",
            "tokenizer.json: 100%|██████████████████████| 8.40M/8.40M [00:00<00:00, 20.1MB/s]\n",
            "special_tokens_map.json: 100%|█████████████| 2.20k/2.20k [00:00<00:00, 11.0MB/s]\n",
            "config.json: 100%|█████████████████████████████| 787/787 [00:00<00:00, 4.40MB/s]\n",
            "pytorch_model.bin: 100%|███████████████████| 1.47G/1.47G [00:19<00:00, 75.1MB/s]\n",
            "/Library/Frameworks/Python.framework/Versions/3.10/lib/python3.10/site-packages/transformers/utils/hub.py:374: FutureWarning: The `use_auth_token` argument is deprecated and will be removed in v5 of Transformers. Please use `token` instead.\n",
            "  warnings.warn(\n",
            "generation_config.json: 100%|██████████████████| 142/142 [00:00<00:00, 1.82MB/s]\n",
            "2023-12-03 04:37:15 | INFO | octopus.interactive_cli | Run the model with CPU\n",
            "2023-12-03 04:37:15 | INFO | octopus.interactive_cli | Loading tasks\n",
            "--------------------------------------------------\n",
            "OCTOPUS's tasks:\n",
            "--------------------------------------------------\n",
            "Prefix: [diacritize] Task Name: Diartization\n",
            "Prefix: [correct_grammar] Task Name: Grammatical Error Correction\n",
            "Prefix: [paraphrase] Task Name: Paraphrase\n",
            "Prefix: [answer_question] Task Name: Question Answering\n",
            "Prefix: [generate_question] Task Name: Question Generation\n",
            "Prefix: [summarize] Task Name: Summarization\n",
            "Prefix: [generate_title] Task Name: Title Generation\n",
            "Prefix: [translitrate_ar2en] Task Name: Translitration Arabic-to-English\n",
            "Prefix: [translitrate_en2ar] Task Name: Translitration English-to-Arabic\n",
            "\n",
            "Type your <task_prefix> followed by <text> or (q) to STOP: "
          ]
        }
      ],
      "source": [
        "!octopus_interactive"
      ]
    },
    {
      "cell_type": "code",
      "execution_count": null,
      "metadata": {
        "id": "C8hSclpRpq14"
      },
      "outputs": [],
      "source": []
    }
  ],
  "metadata": {
    "colab": {
      "collapsed_sections": [],
      "name": "turjuman_interactive_cli.ipynb",
      "provenance": []
    },
    "kernelspec": {
      "display_name": "Python 3",
      "name": "python3"
    },
    "language_info": {
      "codemirror_mode": {
        "name": "ipython",
        "version": 3
      },
      "file_extension": ".py",
      "mimetype": "text/x-python",
      "name": "python",
      "nbconvert_exporter": "python",
      "pygments_lexer": "ipython3",
      "version": "3.10.0"
    }
  },
  "nbformat": 4,
  "nbformat_minor": 0
}
