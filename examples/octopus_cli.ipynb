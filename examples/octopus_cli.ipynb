{
  "cells": [
    {
      "cell_type": "markdown",
      "metadata": {
        "id": "A_kDLcjaRErP"
      },
      "source": [
        "# OCTOPUS\n",
        "\n",
        "<p align=\"center\">\n",
        "    <br>\n",
        "    <img src=\"https://github.com/UBC-NLP/octopus/raw/main/images/octopus.jpg\" width=\"70%\" height=\"70%\"/>\n",
        "    <br>\n",
        "<p>\n",
        "Octopus is a neural machine generation toolkit for Arabic Natural Lnagauge Generation (NLG) that described in our ArabiNLP 2023 paper: [ ** **OCTOPUS: A Multitask Model and Toolkit for Arabic Natural Language Generation** ** ](https://arxiv.org/abs/2310.16127v1).\n",
        "\n",
        "Octopus designed for eight machine generation tasks, encompassing diacritization, grammatical error correction, news headlines generation, paraphrasing, question answering, question generation, and\n",
        "transliteration. This comprehensive package includes a Python library along with associated command-line scripts.\n",
        "\n",
        "---\n",
        "\n",
        "\n",
        "https://github.com/UBC-NLP/octopus"
      ]
    },
    {
      "cell_type": "markdown",
      "metadata": {
        "id": "K4wxJ06TSRad"
      },
      "source": [
        "## Install requirments"
      ]
    },
    {
      "cell_type": "code",
      "execution_count": 1,
      "metadata": {
        "colab": {
          "base_uri": "https://localhost:8080/"
        },
        "id": "YH2WCTBYSasB",
        "outputId": "f925e338-df3c-4a6b-fb5a-1d04851feaa9"
      },
      "outputs": [
        {
          "output_type": "stream",
          "name": "stdout",
          "text": [
            "  Preparing metadata (setup.py) ... \u001b[?25l\u001b[?25hdone\n",
            "\u001b[2K     \u001b[90m━━━━━━━━━━━━━━━━━━━━━━━━━━━━━━━━━━━━━━━━\u001b[0m \u001b[32m1.3/1.3 MB\u001b[0m \u001b[31m11.3 MB/s\u001b[0m eta \u001b[36m0:00:00\u001b[0m\n",
            "\u001b[2K     \u001b[90m━━━━━━━━━━━━━━━━━━━━━━━━━━━━━━━━━━━━━━━━\u001b[0m \u001b[32m106.4/106.4 kB\u001b[0m \u001b[31m11.9 MB/s\u001b[0m eta \u001b[36m0:00:00\u001b[0m\n",
            "\u001b[2K     \u001b[90m━━━━━━━━━━━━━━━━━━━━━━━━━━━━━━━━━━━━━━━━\u001b[0m \u001b[32m265.7/265.7 kB\u001b[0m \u001b[31m26.4 MB/s\u001b[0m eta \u001b[36m0:00:00\u001b[0m\n",
            "\u001b[2K     \u001b[90m━━━━━━━━━━━━━━━━━━━━━━━━━━━━━━━━━━━━━━━━\u001b[0m \u001b[32m521.2/521.2 kB\u001b[0m \u001b[31m23.2 MB/s\u001b[0m eta \u001b[36m0:00:00\u001b[0m\n",
            "\u001b[2K     \u001b[90m━━━━━━━━━━━━━━━━━━━━━━━━━━━━━━━━━━━━━━━━\u001b[0m \u001b[32m115.3/115.3 kB\u001b[0m \u001b[31m10.7 MB/s\u001b[0m eta \u001b[36m0:00:00\u001b[0m\n",
            "\u001b[2K     \u001b[90m━━━━━━━━━━━━━━━━━━━━━━━━━━━━━━━━━━━━━━━━\u001b[0m \u001b[32m134.8/134.8 kB\u001b[0m \u001b[31m15.4 MB/s\u001b[0m eta \u001b[36m0:00:00\u001b[0m\n",
            "\u001b[?25h  Building wheel for octopus (setup.py) ... \u001b[?25l\u001b[?25hdone\n"
          ]
        }
      ],
      "source": [
        "!pip install -U git+https://github.com/UBC-NLP/octopus.git -q"
      ]
    },
    {
      "cell_type": "code",
      "execution_count": 2,
      "metadata": {
        "id": "6f1s8sbBzFRE"
      },
      "outputs": [],
      "source": [
        "\n",
        "import pandas as pd\n",
        "pd.set_option('display.max_columns', None)\n",
        "pd.set_option('display.max_colwidth', None)"
      ]
    },
    {
      "cell_type": "markdown",
      "metadata": {
        "id": "V9giWzsU3Ryk"
      },
      "source": [
        "## Octopus Tasks\n",
        "  - **Prefix**: `diacritize` **Task Name**: Diartization\n",
        "  - **Prefix**: `correct_grammar` **Task Name**: Grammatical Error Correction\n",
        "  - **Prefix**: `paraphrase` **Task Name**: Paraphrase\n",
        "  - **Prefix**: `answer_question` **Task Name**: Question Answering\n",
        "  - **Prefix**: `generate_question` **Task Name**: Question Generation\n",
        "  - **Prefix**: `summarize` **Task Name**: Summarization\n",
        "  - **Prefix**: `generate_title` **Task Name**: Title Generation\n",
        "  - **Prefix**: `translitrate_ar2en` **Task Name**: Translitration Arabic-to-English\n",
        "  - **Prefix**: `translitrate_en2ar` **Task Name**: Translitration English-to-Arabic"
      ]
    },
    {
      "cell_type": "markdown",
      "metadata": {
        "id": "yIEH75xsSa9R"
      },
      "source": [
        "## Octopus Command Line Interface (CLI)\n",
        "Octopus cli support two types of inputs:\n",
        "- **-t** or **--text**: Write you input text directly on the command line. The translation will display directly on the terminal.\n",
        "- **-f** or **--input_file**: import the text from file. The generation's output will saved on the JSON format file."
      ]
    },
    {
      "cell_type": "markdown",
      "metadata": {
        "id": "rgMZ6MN10hHt"
      },
      "source": [
        "### (1) Usage and Arguments\n"
      ]
    },
    {
      "cell_type": "code",
      "execution_count": 3,
      "metadata": {
        "colab": {
          "base_uri": "https://localhost:8080/"
        },
        "id": "fmf8WadmzvxR",
        "outputId": "9df35beb-e29c-4d82-af6a-c0d4fa47d497"
      },
      "outputs": [
        {
          "output_type": "stream",
          "name": "stdout",
          "text": [
            "2023-12-05 00:12:32.591548: E tensorflow/compiler/xla/stream_executor/cuda/cuda_dnn.cc:9342] Unable to register cuDNN factory: Attempting to register factory for plugin cuDNN when one has already been registered\n",
            "2023-12-05 00:12:32.591651: E tensorflow/compiler/xla/stream_executor/cuda/cuda_fft.cc:609] Unable to register cuFFT factory: Attempting to register factory for plugin cuFFT when one has already been registered\n",
            "2023-12-05 00:12:32.591700: E tensorflow/compiler/xla/stream_executor/cuda/cuda_blas.cc:1518] Unable to register cuBLAS factory: Attempting to register factory for plugin cuBLAS when one has already been registered\n",
            "2023-12-05 00:12:33.874293: W tensorflow/compiler/tf2tensorrt/utils/py_utils.cc:38] TF-TRT Warning: Could not find TensorRT\n",
            "usage: octopus [-h] -x PREFIX [-t TEXT] [-f INPUT_FILE] [-m SEARCH_METHOD] [-s SEQ_LENGTH]\n",
            "               [-o MAX_OUTPUTS] [-b NUM_BEAMS] [-n NO_REPEAT_NGRAM_SIZE] [-k TOP_K] [-p TOP_P]\n",
            "               [-c CACHE_DIR] [-l LOGGING_FILE] [-bs BATCH_SIZE]\n",
            "\n",
            "Octopus Command Line Interface (CLI)\n",
            "\n",
            "options:\n",
            "  -h, --help            show this help message and exit\n",
            "  -x PREFIX, --prefix PREFIX\n",
            "                        task prefix [’diacritize’,’correct_grammar’, ’paraphrase’,’answer_question\n",
            "                        ’,’generate_question’,’summarize’,’generate_title’,\n",
            "                        ’translitrate_ar2en’,’translitrate_en2ar’]\n",
            "  -t TEXT, --text TEXT  translate the input text into Arabic\n",
            "  -f INPUT_FILE, --input_file INPUT_FILE\n",
            "                        path of input file\n",
            "  -m SEARCH_METHOD, --search_method SEARCH_METHOD\n",
            "                        decoding method [‘greedy’, ‘beam’, ‘sampling’] , default value is beam\n",
            "                        search\n",
            "  -s SEQ_LENGTH, --seq_length SEQ_LENGTH\n",
            "                        generate sequences of maximum length seq length, default vlaue is 300\n",
            "  -o MAX_OUTPUTS, --max_outputs MAX_OUTPUTS\n",
            "                        number of hypotheses to output, default vlaue is 1\n",
            "  -b NUM_BEAMS, --num_beams NUM_BEAMS\n",
            "                        beam serach with a size of n beam, default vlaue is 5\n",
            "  -n NO_REPEAT_NGRAM_SIZE, --no_repeat_ngram_size NO_REPEAT_NGRAM_SIZE\n",
            "                        ngram size cannot be repeated in the generation, default vlaue is 2\n",
            "  -k TOP_K, --top_k TOP_K\n",
            "                        sampling using top-k, default vlaue is 50\n",
            "  -p TOP_P, --top_p TOP_P\n",
            "                        sampling using top-p, default vlaue is 0.95\n",
            "  -c CACHE_DIR, --cache_dir CACHE_DIR\n",
            "                        path of the cache directory, default vlaue is octopus_cache directory\n",
            "  -l LOGGING_FILE, --logging_file LOGGING_FILE\n",
            "                        the logging file path, default vlaue is None\n",
            "  -bs BATCH_SIZE, --batch_size BATCH_SIZE\n",
            "                        the number of sentences translated in one iteration\n"
          ]
        }
      ],
      "source": [
        "!octopus -h"
      ]
    },
    {
      "cell_type": "markdown",
      "metadata": {
        "id": "9Vmrkr9azIXZ"
      },
      "source": [
        "## (2) Using beam search (default)\n",
        "- **Beam search** is the *default* generation method on Turjuman\n",
        "- Beam search default setting:\n",
        "  - **-s** or **--seq_length**: The maximum sequence length value, *default value is 300*\n",
        "  - **-o** or **--max_outputs**: The maximum of the output tanslations (*default value is 1*)\n",
        "  - **-b** or **--num_beams NUM_BEAMS**: Number of beams (*default value is 1*)\n",
        "  - **-n** or **--no_repeat_ngram_size**: Number of n-gram that doesn't appears twice (*default value is 2*)"
      ]
    },
    {
      "cell_type": "code",
      "execution_count": 4,
      "metadata": {
        "id": "I0q_Q4iQ3Rym"
      },
      "outputs": [],
      "source": [
        "text=\"\"\"\n",
        "أكد النجم البرازيلي نيمار مهاجم نادي الهلال أن الدوري السعودي بات أكثر قوة من الدوري الفرنسي مذكراً الجميع بتجربته في الأخير عندما انتقل إلى باريس سان جيرمان صيف 2017.\n",
        "وأوضح نيمار خلال مؤتمر صحفي مقام في بارا البرازيلية لدى سؤاله عن الدوري السعودي: أؤكد لك أن كرة القدم هي نفسها، الكرة هي نفسها ويسجلون الأهداف وبالنظر إلى الأسماء فإن الدوري السعودي بات أقوى من الدوري الفرنسي. التدريبات هناك شديدة ونتعطش أنا وزملائي للفوز هناك بشكل كبير والتتويج مع الهلال.\n",
        "وأضاف: الجميع اعتقد أن الدوري السعودي ضعيف والأمر نفسه حدث معي عندما انتقلت إلى الدوري الفرنسي، حينها ظن الناس الأمر نفسه لكني لم أضرب في حياتي من قبل المدافعين أكثر من هناك.\n",
        "وأبان حول الدوري السعودي: اللاعبون الذين يلعبون هناك يعلمون مدى صعوبة اللعب في الدوري السعودي وأنا متأكد أنه لن يكون أمرا سهلا الفوز بالمسابقة لأن الفرق عززت صفوفها بلاعبين جدد، وستكون بطولة ممتعة وشيقة جدا.\n",
        "وتلعب البرازيل أمام بوليفيا في بارا البرازيلية يوم السبت قبل أن تواجه بيرو يوم الأربعاء ضمن تصفيات كأس العالم لمنتخبات أميركا الجنوبية.\n",
        "\"\"\""
      ]
    },
    {
      "cell_type": "code",
      "execution_count": 5,
      "metadata": {
        "id": "jR482BkA3Rym",
        "outputId": "617d60ec-990f-4feb-87d7-0b56433945ab",
        "colab": {
          "base_uri": "https://localhost:8080/"
        }
      },
      "outputs": [
        {
          "output_type": "stream",
          "name": "stdout",
          "text": [
            " أكد النجم البرازيلي نيمار مهاجم نادي الهلال أن الدوري السعودي بات أكثر قوة من الدوري الفرنسي مذكراً الجميع بتجربته في الأخير عندما انتقل إلى باريس سان جيرمان صيف 2017. وأوضح نيمار خلال مؤتمر صحفي مقام في بارا البرازيلية لدى سؤاله عن الدوري السعودي: أؤكد لك أن كرة القدم هي نفسها، الكرة هي نفسها ويسجلون الأهداف وبالنظر إلى الأسماء فإن الدوري السعودي بات أقوى من الدوري الفرنسي. التدريبات هناك شديدة ونتعطش أنا وزملائي للفوز هناك بشكل كبير والتتويج مع الهلال. وأضاف: الجميع اعتقد أن الدوري السعودي ضعيف والأمر نفسه حدث معي عندما انتقلت إلى الدوري الفرنسي، حينها ظن الناس الأمر نفسه لكني لم أضرب في حياتي من قبل المدافعين أكثر من هناك. وأبان حول الدوري السعودي: اللاعبون الذين يلعبون هناك يعلمون مدى صعوبة اللعب في الدوري السعودي وأنا متأكد أنه لن يكون أمرا سهلا الفوز بالمسابقة لأن الفرق عززت صفوفها بلاعبين جدد، وستكون بطولة ممتعة وشيقة جدا. وتلعب البرازيل أمام بوليفيا في بارا البرازيلية يوم السبت قبل أن تواجه بيرو يوم الأربعاء ضمن تصفيات كأس العالم لمنتخبات أميركا الجنوبية. \n"
          ]
        }
      ],
      "source": [
        "import regex\n",
        "text = regex.sub(\"[\\r\\n\\f]+\", \" \", text)\n",
        "print (text)"
      ]
    },
    {
      "cell_type": "code",
      "execution_count": 6,
      "metadata": {
        "colab": {
          "base_uri": "https://localhost:8080/"
        },
        "id": "J5mTVnmey1ZF",
        "outputId": "d213687d-60e6-410c-accb-20820b5100ce"
      },
      "outputs": [
        {
          "output_type": "stream",
          "name": "stdout",
          "text": [
            "2023-12-05 00:12:43.823877: E tensorflow/compiler/xla/stream_executor/cuda/cuda_dnn.cc:9342] Unable to register cuDNN factory: Attempting to register factory for plugin cuDNN when one has already been registered\n",
            "2023-12-05 00:12:43.823950: E tensorflow/compiler/xla/stream_executor/cuda/cuda_fft.cc:609] Unable to register cuFFT factory: Attempting to register factory for plugin cuFFT when one has already been registered\n",
            "2023-12-05 00:12:43.823990: E tensorflow/compiler/xla/stream_executor/cuda/cuda_blas.cc:1518] Unable to register cuBLAS factory: Attempting to register factory for plugin cuBLAS when one has already been registered\n",
            "2023-12-05 00:12:45.589853: W tensorflow/compiler/tf2tensorrt/utils/py_utils.cc:38] TF-TRT Warning: Could not find TensorRT\n",
            "2023-12-05 00:12:46 | INFO | octopus_cli | Octopus Translate Command Line Interface\n",
            "2023-12-05 00:12:46 | INFO | octopus_cli | Loading model from UBC-NLP/octopus\n",
            "tokenizer_config.json: 100% 2.40k/2.40k [00:00<00:00, 10.7MB/s]\n",
            "spiece.model: 100% 2.35M/2.35M [00:00<00:00, 13.4MB/s]\n",
            "tokenizer.json: 100% 8.40M/8.40M [00:00<00:00, 21.5MB/s]\n",
            "special_tokens_map.json: 100% 2.20k/2.20k [00:00<00:00, 9.18MB/s]\n",
            "config.json: 100% 787/787 [00:00<00:00, 3.62MB/s]\n",
            "pytorch_model.bin: 100% 1.47G/1.47G [00:11<00:00, 126MB/s]\n",
            "generation_config.json: 100% 142/142 [00:00<00:00, 436kB/s]\n",
            "2023-12-05 00:13:07 | INFO | octopus_cli | Run the model with one-GPU 1\n",
            "2023-12-05 00:13:13 | INFO | octopus_cli | Task: Title Generation Method: Input Text\n",
            "2023-12-05 00:13:13 | INFO | octopus_cli | Using beam search\n",
            "2023-12-05 00:13:13 | INFO | octopus_cli | ** Copying input to cuda:0\n",
            "Output#1: نيمار: الدوري السعودي أقوى من الفرنسي\n",
            "Output#2: نيمار: الدوري السعودي أقوى من الدوري الفرنسي\n",
            "Output#3: نيمار: أعرف أن الدوري السعودي أقوى من الدوري الفرنسي\n",
            "Output#4: نيمار: الدوري السعودي بات أقوى من الدوري الفرنسي\n",
            "Output#5: نيمار: أعرف أن الدوري السعودي أقوى من الفرنسي\n"
          ]
        }
      ],
      "source": [
        " # Beam search is the default generation method on Octopus toolkit\n",
        "!octopus --prefix \"generate_title\" --text \"{text}\" --max_outputs 5"
      ]
    },
    {
      "cell_type": "markdown",
      "metadata": {
        "id": "IxXNAdmEGApC"
      },
      "source": [
        "## (3) Using greedy search\n",
        "- Greedy search default setting:\n",
        "  - **-s** or **--seq_length**: The maximum sequence length value, *default vlaue is 300*"
      ]
    },
    {
      "cell_type": "code",
      "execution_count": 7,
      "metadata": {
        "colab": {
          "base_uri": "https://localhost:8080/"
        },
        "id": "Ilx8hd44CXYS",
        "outputId": "1a74cc4a-759a-43fc-bf0f-dc72727dddec"
      },
      "outputs": [
        {
          "output_type": "stream",
          "name": "stdout",
          "text": [
            "2023-12-05 00:13:31.347570: E tensorflow/compiler/xla/stream_executor/cuda/cuda_dnn.cc:9342] Unable to register cuDNN factory: Attempting to register factory for plugin cuDNN when one has already been registered\n",
            "2023-12-05 00:13:31.347640: E tensorflow/compiler/xla/stream_executor/cuda/cuda_fft.cc:609] Unable to register cuFFT factory: Attempting to register factory for plugin cuFFT when one has already been registered\n",
            "2023-12-05 00:13:31.347677: E tensorflow/compiler/xla/stream_executor/cuda/cuda_blas.cc:1518] Unable to register cuBLAS factory: Attempting to register factory for plugin cuBLAS when one has already been registered\n",
            "2023-12-05 00:13:32.437253: W tensorflow/compiler/tf2tensorrt/utils/py_utils.cc:38] TF-TRT Warning: Could not find TensorRT\n",
            "2023-12-05 00:13:33 | INFO | octopus_cli | Octopus Translate Command Line Interface\n",
            "2023-12-05 00:13:33 | INFO | octopus_cli | Loading model from UBC-NLP/octopus\n",
            "2023-12-05 00:13:40 | INFO | octopus_cli | Run the model with one-GPU 1\n",
            "2023-12-05 00:13:42 | INFO | octopus_cli | Task: Question Answering Method: Input Text\n",
            "2023-12-05 00:13:42 | INFO | octopus_cli | Using greedy search\n",
            "2023-12-05 00:13:42 | INFO | octopus_cli | ** Copying input to cuda:0\n",
            "Output: صيف 2017\n"
          ]
        }
      ],
      "source": [
        "qa_example=f\"[context: {text}] [question: متي انتقل بيمار الي باريس سان جيرمان؟]\"\n",
        "!octopus --prefix \"answer_question\" --search_method greedy --text \"{qa_example}\""
      ]
    },
    {
      "cell_type": "markdown",
      "metadata": {
        "id": "cNDGxEorGcM5"
      },
      "source": [
        "## (4) Using sampling search\n",
        "- Sampling search default setting:\n",
        "  - **-s** or **--seq_length**: The maximum sequence length value, *default value is 300*\n",
        "  - **-o** or **--max_outputs**: The maximum of the output tanslations (*default value is 1*)\n",
        "  - **-k** or **--top_k**: Sample from top K likely next words instead of all words (*default value is 50*)\n",
        "  - **-p** or **--top_p**: Sample from the smallest set whose cumulative probability mass exceeds p for next words (*default value is 0.95*)"
      ]
    },
    {
      "cell_type": "code",
      "execution_count": 8,
      "metadata": {
        "colab": {
          "base_uri": "https://localhost:8080/"
        },
        "id": "xvW56rEiCgnf",
        "outputId": "048c3ebe-e610-4547-8f5b-fd5000ddf7fb"
      },
      "outputs": [
        {
          "output_type": "stream",
          "name": "stdout",
          "text": [
            "2023-12-05 00:13:50.458857: E tensorflow/compiler/xla/stream_executor/cuda/cuda_dnn.cc:9342] Unable to register cuDNN factory: Attempting to register factory for plugin cuDNN when one has already been registered\n",
            "2023-12-05 00:13:50.458921: E tensorflow/compiler/xla/stream_executor/cuda/cuda_fft.cc:609] Unable to register cuFFT factory: Attempting to register factory for plugin cuFFT when one has already been registered\n",
            "2023-12-05 00:13:50.458955: E tensorflow/compiler/xla/stream_executor/cuda/cuda_blas.cc:1518] Unable to register cuBLAS factory: Attempting to register factory for plugin cuBLAS when one has already been registered\n",
            "2023-12-05 00:13:51.558563: W tensorflow/compiler/tf2tensorrt/utils/py_utils.cc:38] TF-TRT Warning: Could not find TensorRT\n",
            "2023-12-05 00:13:52 | INFO | octopus_cli | Octopus Translate Command Line Interface\n",
            "2023-12-05 00:13:52 | INFO | octopus_cli | Loading model from UBC-NLP/octopus\n",
            "2023-12-05 00:14:00 | INFO | octopus_cli | Run the model with one-GPU 1\n",
            "2023-12-05 00:14:02 | INFO | octopus_cli | Task: Paraphrase Method: Input Text\n",
            "2023-12-05 00:14:02 | INFO | octopus_cli | Using sampling search\n",
            "2023-12-05 00:14:02 | INFO | octopus_cli | ** Copying input to cuda:0\n",
            "Output: بالتزامن مع حالة التأهب في شرق ليبيا بسبب إعصار دانيال الذي ضربها، انضمت مصر إلى العاصفة ليشمل أجزاء من غرب البلاد، بما في ذلك مدن السلوم وسيوة ومطروح والإسكندرية. وأظهرت صور الأقمار الصناعية المختلفة شكل العاصفة التي ضربت مصر، حيث ظهرت طبقات من السحب المختلفة والأتربة المصاحبة لها.\n"
          ]
        }
      ],
      "source": [
        "text=\"\"\"\n",
        "بالتزامن مع استنفار ليبيا لاسيما في الشرق جراء الإعصار دانيال الذي ضربها، وصلت العاصفة دانيال أيضا إلى مصر وضربت محافظتين في شمال البلاد، هما مرسى مطروح والإسكندرية فقد غطت العاصفة مناطق الحدود المصرية غرب البلاد، وشملت مدن السلوم وسيوة ومطروح والإسكندرية. وبينت القنوات المختلفة لصور الأقمار الصناعية شكل العاصفة التي طرقت الأبواب المصرية. وأظهرت طبقات من السحب المختلفة والأتربة المصاحبة لها.\n",
        "\"\"\"\n",
        "!octopus --prefix \"paraphrase\" --search_method sampling --text \"{text}\""
      ]
    },
    {
      "cell_type": "markdown",
      "metadata": {
        "id": "sTGSrBa9JWdL"
      },
      "source": [
        "## (5) Read text from file\n",
        "- **-f** or **--input_file**: import the text from file. The translation will saved on the JSON format file\n",
        "- **-bs** or **--batch_size**: The maximum number of source examples utilized in one iteration (default value is 25)"
      ]
    },
    {
      "cell_type": "code",
      "execution_count": 9,
      "metadata": {
        "colab": {
          "base_uri": "https://localhost:8080/"
        },
        "id": "JJ_-w_y8JyGt",
        "outputId": "53fea816-21ea-444d-a76c-127680375a16"
      },
      "outputs": [
        {
          "output_type": "stream",
          "name": "stdout",
          "text": [
            "--2023-12-05 00:14:08--  https://raw.githubusercontent.com/UBC-NLP/octopus/main/examples/samples.txt\n",
            "Resolving raw.githubusercontent.com (raw.githubusercontent.com)... 185.199.108.133, 185.199.109.133, 185.199.110.133, ...\n",
            "Connecting to raw.githubusercontent.com (raw.githubusercontent.com)|185.199.108.133|:443... connected.\n",
            "HTTP request sent, awaiting response... 200 OK\n",
            "Length: 76 [text/plain]\n",
            "Saving to: ‘samples.txt’\n",
            "\n",
            "\rsamples.txt           0%[                    ]       0  --.-KB/s               \rsamples.txt         100%[===================>]      76  --.-KB/s    in 0s      \n",
            "\n",
            "2023-12-05 00:14:08 (1.45 MB/s) - ‘samples.txt’ saved [76/76]\n",
            "\n"
          ]
        }
      ],
      "source": [
        "!wget https://raw.githubusercontent.com/UBC-NLP/octopus/main/examples/samples.txt"
      ]
    },
    {
      "cell_type": "code",
      "execution_count": 10,
      "metadata": {
        "colab": {
          "base_uri": "https://localhost:8080/"
        },
        "id": "S0TI6W24HGk9",
        "outputId": "e6a32933-89d1-4a84-927e-b0ba57c45274"
      },
      "outputs": [
        {
          "output_type": "stream",
          "name": "stdout",
          "text": [
            "2023-12-05 00:14:13.629012: E tensorflow/compiler/xla/stream_executor/cuda/cuda_dnn.cc:9342] Unable to register cuDNN factory: Attempting to register factory for plugin cuDNN when one has already been registered\n",
            "2023-12-05 00:14:13.629065: E tensorflow/compiler/xla/stream_executor/cuda/cuda_fft.cc:609] Unable to register cuFFT factory: Attempting to register factory for plugin cuFFT when one has already been registered\n",
            "2023-12-05 00:14:13.629101: E tensorflow/compiler/xla/stream_executor/cuda/cuda_blas.cc:1518] Unable to register cuBLAS factory: Attempting to register factory for plugin cuBLAS when one has already been registered\n",
            "2023-12-05 00:14:14.737848: W tensorflow/compiler/tf2tensorrt/utils/py_utils.cc:38] TF-TRT Warning: Could not find TensorRT\n",
            "2023-12-05 00:14:15 | INFO | octopus_cli | Octopus Translate Command Line Interface\n",
            "2023-12-05 00:14:15 | INFO | octopus_cli | Loading model from UBC-NLP/octopus\n",
            "2023-12-05 00:14:22 | INFO | octopus_cli | Run the model with one-GPU 1\n",
            "2023-12-05 00:14:25 | INFO | octopus_cli | Task: Translitration English-to-Arabic Method: Input File samples.txt\n",
            "2023-12-05 00:14:25 | INFO | octopus_cli | Using beam search\n",
            "2023-12-05 00:14:25 | INFO | octopus_cli | Loading source text from file (samples.txt)\n",
            "Downloading data files: 100% 1/1 [00:00<00:00, 7557.30it/s]\n",
            "Extracting data files: 100% 1/1 [00:00<00:00, 1714.06it/s]\n",
            "Generating source split: 10 examples [00:00, 158.90 examples/s]\n",
            "2023-12-05 00:14:25 | INFO | octopus_cli | Running tokenizer on source text\n",
            "Map: 100% 10/10 [00:00<00:00, 794.47 examples/s]\n",
            "2023-12-05 00:14:31 | INFO | octopus_cli | Working on cuda\n",
            "translate:   0% 0/1 [00:00<?, ?it/s]2023-12-05 00:14:31 | INFO | octopus_cli | Translating with batch_size 25 and #samples = 1\n",
            "translate: 100% 1/1 [00:00<00:00,  1.40it/s]\n",
            "2023-12-05 00:14:31 | INFO | octopus_cli | Extract outputs\n",
            "2023-12-05 00:14:31 | INFO | octopus_cli | The translation are saved on samples_octopus_outputs.json\n"
          ]
        }
      ],
      "source": [
        " # translate sentences that imported from file using default Beam search\n",
        "!octopus --prefix \"translitrate_en2ar\" --input_file samples.txt"
      ]
    },
    {
      "cell_type": "code",
      "execution_count": 11,
      "metadata": {
        "colab": {
          "base_uri": "https://localhost:8080/",
          "height": 363
        },
        "id": "eqwIswDDKjeB",
        "outputId": "b23ffafd-bdec-488b-9d39-ec82a0e61dea"
      },
      "outputs": [
        {
          "output_type": "execute_result",
          "data": {
            "text/plain": [
              "     source   target                              task\n",
              "0  Mantorov  ماموروف  Translitration English-to-Arabic\n",
              "1   Meccano    ميتكو  Translitration English-to-Arabic\n",
              "2     Laslo  لا زالو  Translitration English-to-Arabic\n",
              "3   Mishari    مشاري  Translitration English-to-Arabic\n",
              "4    Heiber    هايبر  Translitration English-to-Arabic\n",
              "5    Korwin   كورينا  Translitration English-to-Arabic\n",
              "6  Truliner  ترولينر  Translitration English-to-Arabic\n",
              "7   Kuttner    كاندر  Translitration English-to-Arabic\n",
              "8    Leumul     ليمو  Translitration English-to-Arabic\n",
              "9   Dirhael     دهمش  Translitration English-to-Arabic"
            ],
            "text/html": [
              "\n",
              "  <div id=\"df-018eb9a2-f423-426e-b760-ec1f0f111ea2\" class=\"colab-df-container\">\n",
              "    <div>\n",
              "<style scoped>\n",
              "    .dataframe tbody tr th:only-of-type {\n",
              "        vertical-align: middle;\n",
              "    }\n",
              "\n",
              "    .dataframe tbody tr th {\n",
              "        vertical-align: top;\n",
              "    }\n",
              "\n",
              "    .dataframe thead th {\n",
              "        text-align: right;\n",
              "    }\n",
              "</style>\n",
              "<table border=\"1\" class=\"dataframe\">\n",
              "  <thead>\n",
              "    <tr style=\"text-align: right;\">\n",
              "      <th></th>\n",
              "      <th>source</th>\n",
              "      <th>target</th>\n",
              "      <th>task</th>\n",
              "    </tr>\n",
              "  </thead>\n",
              "  <tbody>\n",
              "    <tr>\n",
              "      <th>0</th>\n",
              "      <td>Mantorov</td>\n",
              "      <td>ماموروف</td>\n",
              "      <td>Translitration English-to-Arabic</td>\n",
              "    </tr>\n",
              "    <tr>\n",
              "      <th>1</th>\n",
              "      <td>Meccano</td>\n",
              "      <td>ميتكو</td>\n",
              "      <td>Translitration English-to-Arabic</td>\n",
              "    </tr>\n",
              "    <tr>\n",
              "      <th>2</th>\n",
              "      <td>Laslo</td>\n",
              "      <td>لا زالو</td>\n",
              "      <td>Translitration English-to-Arabic</td>\n",
              "    </tr>\n",
              "    <tr>\n",
              "      <th>3</th>\n",
              "      <td>Mishari</td>\n",
              "      <td>مشاري</td>\n",
              "      <td>Translitration English-to-Arabic</td>\n",
              "    </tr>\n",
              "    <tr>\n",
              "      <th>4</th>\n",
              "      <td>Heiber</td>\n",
              "      <td>هايبر</td>\n",
              "      <td>Translitration English-to-Arabic</td>\n",
              "    </tr>\n",
              "    <tr>\n",
              "      <th>5</th>\n",
              "      <td>Korwin</td>\n",
              "      <td>كورينا</td>\n",
              "      <td>Translitration English-to-Arabic</td>\n",
              "    </tr>\n",
              "    <tr>\n",
              "      <th>6</th>\n",
              "      <td>Truliner</td>\n",
              "      <td>ترولينر</td>\n",
              "      <td>Translitration English-to-Arabic</td>\n",
              "    </tr>\n",
              "    <tr>\n",
              "      <th>7</th>\n",
              "      <td>Kuttner</td>\n",
              "      <td>كاندر</td>\n",
              "      <td>Translitration English-to-Arabic</td>\n",
              "    </tr>\n",
              "    <tr>\n",
              "      <th>8</th>\n",
              "      <td>Leumul</td>\n",
              "      <td>ليمو</td>\n",
              "      <td>Translitration English-to-Arabic</td>\n",
              "    </tr>\n",
              "    <tr>\n",
              "      <th>9</th>\n",
              "      <td>Dirhael</td>\n",
              "      <td>دهمش</td>\n",
              "      <td>Translitration English-to-Arabic</td>\n",
              "    </tr>\n",
              "  </tbody>\n",
              "</table>\n",
              "</div>\n",
              "    <div class=\"colab-df-buttons\">\n",
              "\n",
              "  <div class=\"colab-df-container\">\n",
              "    <button class=\"colab-df-convert\" onclick=\"convertToInteractive('df-018eb9a2-f423-426e-b760-ec1f0f111ea2')\"\n",
              "            title=\"Convert this dataframe to an interactive table.\"\n",
              "            style=\"display:none;\">\n",
              "\n",
              "  <svg xmlns=\"http://www.w3.org/2000/svg\" height=\"24px\" viewBox=\"0 -960 960 960\">\n",
              "    <path d=\"M120-120v-720h720v720H120Zm60-500h600v-160H180v160Zm220 220h160v-160H400v160Zm0 220h160v-160H400v160ZM180-400h160v-160H180v160Zm440 0h160v-160H620v160ZM180-180h160v-160H180v160Zm440 0h160v-160H620v160Z\"/>\n",
              "  </svg>\n",
              "    </button>\n",
              "\n",
              "  <style>\n",
              "    .colab-df-container {\n",
              "      display:flex;\n",
              "      gap: 12px;\n",
              "    }\n",
              "\n",
              "    .colab-df-convert {\n",
              "      background-color: #E8F0FE;\n",
              "      border: none;\n",
              "      border-radius: 50%;\n",
              "      cursor: pointer;\n",
              "      display: none;\n",
              "      fill: #1967D2;\n",
              "      height: 32px;\n",
              "      padding: 0 0 0 0;\n",
              "      width: 32px;\n",
              "    }\n",
              "\n",
              "    .colab-df-convert:hover {\n",
              "      background-color: #E2EBFA;\n",
              "      box-shadow: 0px 1px 2px rgba(60, 64, 67, 0.3), 0px 1px 3px 1px rgba(60, 64, 67, 0.15);\n",
              "      fill: #174EA6;\n",
              "    }\n",
              "\n",
              "    .colab-df-buttons div {\n",
              "      margin-bottom: 4px;\n",
              "    }\n",
              "\n",
              "    [theme=dark] .colab-df-convert {\n",
              "      background-color: #3B4455;\n",
              "      fill: #D2E3FC;\n",
              "    }\n",
              "\n",
              "    [theme=dark] .colab-df-convert:hover {\n",
              "      background-color: #434B5C;\n",
              "      box-shadow: 0px 1px 3px 1px rgba(0, 0, 0, 0.15);\n",
              "      filter: drop-shadow(0px 1px 2px rgba(0, 0, 0, 0.3));\n",
              "      fill: #FFFFFF;\n",
              "    }\n",
              "  </style>\n",
              "\n",
              "    <script>\n",
              "      const buttonEl =\n",
              "        document.querySelector('#df-018eb9a2-f423-426e-b760-ec1f0f111ea2 button.colab-df-convert');\n",
              "      buttonEl.style.display =\n",
              "        google.colab.kernel.accessAllowed ? 'block' : 'none';\n",
              "\n",
              "      async function convertToInteractive(key) {\n",
              "        const element = document.querySelector('#df-018eb9a2-f423-426e-b760-ec1f0f111ea2');\n",
              "        const dataTable =\n",
              "          await google.colab.kernel.invokeFunction('convertToInteractive',\n",
              "                                                    [key], {});\n",
              "        if (!dataTable) return;\n",
              "\n",
              "        const docLinkHtml = 'Like what you see? Visit the ' +\n",
              "          '<a target=\"_blank\" href=https://colab.research.google.com/notebooks/data_table.ipynb>data table notebook</a>'\n",
              "          + ' to learn more about interactive tables.';\n",
              "        element.innerHTML = '';\n",
              "        dataTable['output_type'] = 'display_data';\n",
              "        await google.colab.output.renderOutput(dataTable, element);\n",
              "        const docLink = document.createElement('div');\n",
              "        docLink.innerHTML = docLinkHtml;\n",
              "        element.appendChild(docLink);\n",
              "      }\n",
              "    </script>\n",
              "  </div>\n",
              "\n",
              "\n",
              "<div id=\"df-a4d6c96c-c8d5-4edc-a25b-5924b88ccf2e\">\n",
              "  <button class=\"colab-df-quickchart\" onclick=\"quickchart('df-a4d6c96c-c8d5-4edc-a25b-5924b88ccf2e')\"\n",
              "            title=\"Suggest charts\"\n",
              "            style=\"display:none;\">\n",
              "\n",
              "<svg xmlns=\"http://www.w3.org/2000/svg\" height=\"24px\"viewBox=\"0 0 24 24\"\n",
              "     width=\"24px\">\n",
              "    <g>\n",
              "        <path d=\"M19 3H5c-1.1 0-2 .9-2 2v14c0 1.1.9 2 2 2h14c1.1 0 2-.9 2-2V5c0-1.1-.9-2-2-2zM9 17H7v-7h2v7zm4 0h-2V7h2v10zm4 0h-2v-4h2v4z\"/>\n",
              "    </g>\n",
              "</svg>\n",
              "  </button>\n",
              "\n",
              "<style>\n",
              "  .colab-df-quickchart {\n",
              "      --bg-color: #E8F0FE;\n",
              "      --fill-color: #1967D2;\n",
              "      --hover-bg-color: #E2EBFA;\n",
              "      --hover-fill-color: #174EA6;\n",
              "      --disabled-fill-color: #AAA;\n",
              "      --disabled-bg-color: #DDD;\n",
              "  }\n",
              "\n",
              "  [theme=dark] .colab-df-quickchart {\n",
              "      --bg-color: #3B4455;\n",
              "      --fill-color: #D2E3FC;\n",
              "      --hover-bg-color: #434B5C;\n",
              "      --hover-fill-color: #FFFFFF;\n",
              "      --disabled-bg-color: #3B4455;\n",
              "      --disabled-fill-color: #666;\n",
              "  }\n",
              "\n",
              "  .colab-df-quickchart {\n",
              "    background-color: var(--bg-color);\n",
              "    border: none;\n",
              "    border-radius: 50%;\n",
              "    cursor: pointer;\n",
              "    display: none;\n",
              "    fill: var(--fill-color);\n",
              "    height: 32px;\n",
              "    padding: 0;\n",
              "    width: 32px;\n",
              "  }\n",
              "\n",
              "  .colab-df-quickchart:hover {\n",
              "    background-color: var(--hover-bg-color);\n",
              "    box-shadow: 0 1px 2px rgba(60, 64, 67, 0.3), 0 1px 3px 1px rgba(60, 64, 67, 0.15);\n",
              "    fill: var(--button-hover-fill-color);\n",
              "  }\n",
              "\n",
              "  .colab-df-quickchart-complete:disabled,\n",
              "  .colab-df-quickchart-complete:disabled:hover {\n",
              "    background-color: var(--disabled-bg-color);\n",
              "    fill: var(--disabled-fill-color);\n",
              "    box-shadow: none;\n",
              "  }\n",
              "\n",
              "  .colab-df-spinner {\n",
              "    border: 2px solid var(--fill-color);\n",
              "    border-color: transparent;\n",
              "    border-bottom-color: var(--fill-color);\n",
              "    animation:\n",
              "      spin 1s steps(1) infinite;\n",
              "  }\n",
              "\n",
              "  @keyframes spin {\n",
              "    0% {\n",
              "      border-color: transparent;\n",
              "      border-bottom-color: var(--fill-color);\n",
              "      border-left-color: var(--fill-color);\n",
              "    }\n",
              "    20% {\n",
              "      border-color: transparent;\n",
              "      border-left-color: var(--fill-color);\n",
              "      border-top-color: var(--fill-color);\n",
              "    }\n",
              "    30% {\n",
              "      border-color: transparent;\n",
              "      border-left-color: var(--fill-color);\n",
              "      border-top-color: var(--fill-color);\n",
              "      border-right-color: var(--fill-color);\n",
              "    }\n",
              "    40% {\n",
              "      border-color: transparent;\n",
              "      border-right-color: var(--fill-color);\n",
              "      border-top-color: var(--fill-color);\n",
              "    }\n",
              "    60% {\n",
              "      border-color: transparent;\n",
              "      border-right-color: var(--fill-color);\n",
              "    }\n",
              "    80% {\n",
              "      border-color: transparent;\n",
              "      border-right-color: var(--fill-color);\n",
              "      border-bottom-color: var(--fill-color);\n",
              "    }\n",
              "    90% {\n",
              "      border-color: transparent;\n",
              "      border-bottom-color: var(--fill-color);\n",
              "    }\n",
              "  }\n",
              "</style>\n",
              "\n",
              "  <script>\n",
              "    async function quickchart(key) {\n",
              "      const quickchartButtonEl =\n",
              "        document.querySelector('#' + key + ' button');\n",
              "      quickchartButtonEl.disabled = true;  // To prevent multiple clicks.\n",
              "      quickchartButtonEl.classList.add('colab-df-spinner');\n",
              "      try {\n",
              "        const charts = await google.colab.kernel.invokeFunction(\n",
              "            'suggestCharts', [key], {});\n",
              "      } catch (error) {\n",
              "        console.error('Error during call to suggestCharts:', error);\n",
              "      }\n",
              "      quickchartButtonEl.classList.remove('colab-df-spinner');\n",
              "      quickchartButtonEl.classList.add('colab-df-quickchart-complete');\n",
              "    }\n",
              "    (() => {\n",
              "      let quickchartButtonEl =\n",
              "        document.querySelector('#df-a4d6c96c-c8d5-4edc-a25b-5924b88ccf2e button');\n",
              "      quickchartButtonEl.style.display =\n",
              "        google.colab.kernel.accessAllowed ? 'block' : 'none';\n",
              "    })();\n",
              "  </script>\n",
              "</div>\n",
              "    </div>\n",
              "  </div>\n"
            ]
          },
          "metadata": {},
          "execution_count": 11
        }
      ],
      "source": [
        "#read the output file\n",
        "import pandas as pd\n",
        "df = pd.read_json(\"samples_octopus_outputs.json\", orient='records', lines=True)\n",
        "df"
      ]
    },
    {
      "cell_type": "code",
      "source": [],
      "metadata": {
        "id": "CIIJYgWGU1tV"
      },
      "execution_count": null,
      "outputs": []
    }
  ],
  "metadata": {
    "accelerator": "GPU",
    "colab": {
      "provenance": [],
      "gpuType": "T4"
    },
    "kernelspec": {
      "display_name": "Python 3",
      "name": "python3"
    },
    "language_info": {
      "codemirror_mode": {
        "name": "ipython",
        "version": 3
      },
      "file_extension": ".py",
      "mimetype": "text/x-python",
      "name": "python",
      "nbconvert_exporter": "python",
      "pygments_lexer": "ipython3",
      "version": "3.10.0"
    }
  },
  "nbformat": 4,
  "nbformat_minor": 0
}