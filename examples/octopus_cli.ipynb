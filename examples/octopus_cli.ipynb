{
  "cells": [
    {
      "cell_type": "markdown",
      "metadata": {
        "id": "A_kDLcjaRErP"
      },
      "source": [
        "# OCTOPUS\n",
        "\n",
        "<p align=\"center\">\n",
        "    <br>\n",
        "    <img src=\"https://github.com/UBC-NLP/octopus/raw/main/images/octopus.jpg\" width=\"70%\" height=\"70%\"/>\n",
        "    <br>\n",
        "<p>\n",
        "Octopus is a neural machine generation toolkit for Arabic Natural Lnagauge Generation (NLG) that described in our ArabiNLP 2023 paper: [**OCTOPUS: A Multitask Model and Toolkit for Arabic Natural Language Generation**](https://arxiv.org/abs/2310.16127v1). \n",
        "\n",
        "Octopus designed for eight machine generation tasks, encompassing diacritization, grammatical error correction, news headlines generation, paraphrasing, question answering, question generation, and\n",
        "transliteration. This comprehensive package includes a Python library along with associated command-line scripts.\n",
        "\n",
        "---\n",
        "\n",
        "\n",
        "https://github.com/UBC-NLP/octopus"
      ]
    },
    {
      "cell_type": "markdown",
      "metadata": {
        "id": "K4wxJ06TSRad"
      },
      "source": [
        "## Install requirments"
      ]
    },
    {
      "cell_type": "code",
      "execution_count": 1,
      "metadata": {
        "colab": {
          "base_uri": "https://localhost:8080/"
        },
        "id": "YH2WCTBYSasB",
        "outputId": "bea800c2-53bf-4fa0-a48a-b75638ea8935"
      },
      "outputs": [
        {
          "name": "stdout",
          "output_type": "stream",
          "text": [
            "\u001b[K     |████████████████████████████████| 1.2 MB 3.2 MB/s \n",
            "\u001b[K     |████████████████████████████████| 4.2 MB 36.4 MB/s \n",
            "\u001b[K     |████████████████████████████████| 90 kB 5.9 MB/s \n",
            "\u001b[K     |████████████████████████████████| 114 kB 47.4 MB/s \n",
            "\u001b[K     |████████████████████████████████| 342 kB 37.1 MB/s \n",
            "\u001b[K     |████████████████████████████████| 1.1 MB 43.2 MB/s \n",
            "\u001b[K     |████████████████████████████████| 136 kB 50.6 MB/s \n",
            "\u001b[K     |████████████████████████████████| 84 kB 2.7 MB/s \n",
            "\u001b[K     |████████████████████████████████| 212 kB 50.4 MB/s \n",
            "\u001b[K     |████████████████████████████████| 127 kB 13.2 MB/s \n",
            "\u001b[K     |████████████████████████████████| 271 kB 43.0 MB/s \n",
            "\u001b[K     |████████████████████████████████| 144 kB 38.2 MB/s \n",
            "\u001b[K     |████████████████████████████████| 94 kB 2.0 MB/s \n",
            "\u001b[K     |████████████████████████████████| 6.6 MB 37.4 MB/s \n",
            "\u001b[K     |████████████████████████████████| 596 kB 50.3 MB/s \n",
            "\u001b[?25h  Building wheel for turjuman (setup.py) ... \u001b[?25l\u001b[?25hdone\n",
            "\u001b[31mERROR: pip's dependency resolver does not currently take into account all the packages that are installed. This behaviour is the source of the following dependency conflicts.\n",
            "datascience 0.10.6 requires folium==0.2.1, but you have folium 0.8.3 which is incompatible.\u001b[0m\n"
          ]
        }
      ],
      "source": [
        "!pip install git+https://github.com/UBC-NLP/octopus.git --q"
      ]
    },
    {
      "cell_type": "code",
      "execution_count": 1,
      "metadata": {
        "id": "6f1s8sbBzFRE"
      },
      "outputs": [],
      "source": [
        "import pandas as pd\n",
        "pd.set_option('display.max_columns', None)  \n",
        "pd.set_option('display.max_colwidth', None)"
      ]
    },
    {
      "cell_type": "markdown",
      "metadata": {},
      "source": [
        "## Octopus Tasks\n",
        "  - **Prefix**: `diacritize` **Task Name**: Diartization\n",
        "  - **Prefix**: `correct_grammar` **Task Name**: Grammatical Error Correction\n",
        "  - **Prefix**: `paraphrase` **Task Name**: Paraphrase\n",
        "  - **Prefix**: `answer_question` **Task Name**: Question Answering\n",
        "  - **Prefix**: `generate_question` **Task Name**: Question Generation\n",
        "  - **Prefix**: `summarize` **Task Name**: Summarization\n",
        "  - **Prefix**: `generate_title` **Task Name**: Title Generation\n",
        "  - **Prefix**: `translitrate_ar2en` **Task Name**: Translitration Arabic-to-English\n",
        "  - **Prefix**: `translitrate_en2ar` **Task Name**: Translitration English-to-Arabic"
      ]
    },
    {
      "cell_type": "markdown",
      "metadata": {
        "id": "yIEH75xsSa9R"
      },
      "source": [
        "## Octopus Command Line Interface (CLI)\n",
        "Octopus cli support two types of inputs:\n",
        "- **-t** or **--text**: Write you input text directly on the command line. The translation will display directly on the terminal.\n",
        "- **-f** or **--input_file**: import the text from file. The generation's output will saved on the JSON format file."
      ]
    },
    {
      "cell_type": "markdown",
      "metadata": {
        "id": "rgMZ6MN10hHt"
      },
      "source": [
        "### (1) Usage and Arguments\n"
      ]
    },
    {
      "cell_type": "code",
      "execution_count": 2,
      "metadata": {
        "colab": {
          "base_uri": "https://localhost:8080/"
        },
        "id": "fmf8WadmzvxR",
        "outputId": "891adf64-7a9a-429f-bbbb-a5bbc652c01d"
      },
      "outputs": [
        {
          "name": "stdout",
          "output_type": "stream",
          "text": [
            "usage: octopus [-h] -x PREFIX [-t TEXT] [-f INPUT_FILE] [-m SEARCH_METHOD]\n",
            "               [-s SEQ_LENGTH] [-o MAX_OUTPUTS] [-b NUM_BEAMS]\n",
            "               [-n NO_REPEAT_NGRAM_SIZE] [-k TOP_K] [-p TOP_P] [-c CACHE_DIR]\n",
            "               [-l LOGGING_FILE] [-bs BATCH_SIZE]\n",
            "\n",
            "Octopus Command Line Interface (CLI)\n",
            "\n",
            "options:\n",
            "  -h, --help            show this help message and exit\n",
            "  -x PREFIX, --prefix PREFIX\n",
            "                        task prefix [’diacritize’,’correct_grammar’, ’paraphra\n",
            "                        se’,’answer_question’,’generate_question’,’summarize’,\n",
            "                        ’generate_title’,\n",
            "                        ’translitrate_ar2en’,’translitrate_en2ar’]\n",
            "  -t TEXT, --text TEXT  translate the input text into Arabic\n",
            "  -f INPUT_FILE, --input_file INPUT_FILE\n",
            "                        path of input file\n",
            "  -m SEARCH_METHOD, --search_method SEARCH_METHOD\n",
            "                        decoding method [‘greedy’, ‘beam’, ‘sampling’] ,\n",
            "                        default value is beam search\n",
            "  -s SEQ_LENGTH, --seq_length SEQ_LENGTH\n",
            "                        generate sequences of maximum length seq length,\n",
            "                        default vlaue is 300\n",
            "  -o MAX_OUTPUTS, --max_outputs MAX_OUTPUTS\n",
            "                        number of hypotheses to output, default vlaue is 1\n",
            "  -b NUM_BEAMS, --num_beams NUM_BEAMS\n",
            "                        beam serach with a size of n beam, default vlaue is 5\n",
            "  -n NO_REPEAT_NGRAM_SIZE, --no_repeat_ngram_size NO_REPEAT_NGRAM_SIZE\n",
            "                        ngram size cannot be repeated in the generation,\n",
            "                        default vlaue is 2\n",
            "  -k TOP_K, --top_k TOP_K\n",
            "                        sampling using top-k, default vlaue is 50\n",
            "  -p TOP_P, --top_p TOP_P\n",
            "                        sampling using top-p, default vlaue is 0.95\n",
            "  -c CACHE_DIR, --cache_dir CACHE_DIR\n",
            "                        path of the cache directory, default vlaue is\n",
            "                        octopus_cache directory\n",
            "  -l LOGGING_FILE, --logging_file LOGGING_FILE\n",
            "                        the logging file path, default vlaue is None\n",
            "  -bs BATCH_SIZE, --batch_size BATCH_SIZE\n",
            "                        the number of sentences translated in one iteration\n"
          ]
        }
      ],
      "source": [
        "!octopus -h"
      ]
    },
    {
      "cell_type": "markdown",
      "metadata": {
        "id": "9Vmrkr9azIXZ"
      },
      "source": [
        "## (2) Using beam search (default)\n",
        "- **Beam search** is the *default* generation method on Turjuman\n",
        "- Beam search default setting:\n",
        "  - **-s** or **--seq_length**: The maximum sequence length value, *default value is 300*\n",
        "  - **-o** or **--max_outputs**: The maximum of the output tanslations (*default value is 1*)\n",
        "  - **-b** or **--num_beams NUM_BEAMS**: Number of beams (*default value is 1*)\n",
        "  - **-n** or **--no_repeat_ngram_size**: Number of n-gram that doesn't appears twice (*default value is 2*)"
      ]
    },
    {
      "cell_type": "code",
      "execution_count": 2,
      "metadata": {},
      "outputs": [],
      "source": [
        "text=\"\"\"\n",
        "أكد النجم البرازيلي نيمار مهاجم نادي الهلال أن الدوري السعودي بات أكثر قوة من الدوري الفرنسي مذكراً الجميع بتجربته في الأخير عندما انتقل إلى باريس سان جيرمان صيف 2017.\n",
        "وأوضح نيمار خلال مؤتمر صحفي مقام في بارا البرازيلية لدى سؤاله عن الدوري السعودي: أؤكد لك أن كرة القدم هي نفسها، الكرة هي نفسها ويسجلون الأهداف وبالنظر إلى الأسماء فإن الدوري السعودي بات أقوى من الدوري الفرنسي. التدريبات هناك شديدة ونتعطش أنا وزملائي للفوز هناك بشكل كبير والتتويج مع الهلال.\n",
        "وأضاف: الجميع اعتقد أن الدوري السعودي ضعيف والأمر نفسه حدث معي عندما انتقلت إلى الدوري الفرنسي، حينها ظن الناس الأمر نفسه لكني لم أضرب في حياتي من قبل المدافعين أكثر من هناك.\n",
        "وأبان حول الدوري السعودي: اللاعبون الذين يلعبون هناك يعلمون مدى صعوبة اللعب في الدوري السعودي وأنا متأكد أنه لن يكون أمرا سهلا الفوز بالمسابقة لأن الفرق عززت صفوفها بلاعبين جدد، وستكون بطولة ممتعة وشيقة جدا.\n",
        "وتلعب البرازيل أمام بوليفيا في بارا البرازيلية يوم السبت قبل أن تواجه بيرو يوم الأربعاء ضمن تصفيات كأس العالم لمنتخبات أميركا الجنوبية.\n",
        "\"\"\""
      ]
    },
    {
      "cell_type": "code",
      "execution_count": 3,
      "metadata": {},
      "outputs": [
        {
          "name": "stdout",
          "output_type": "stream",
          "text": [
            " أكد النجم البرازيلي نيمار مهاجم نادي الهلال أن الدوري السعودي بات أكثر قوة من الدوري الفرنسي مذكراً الجميع بتجربته في الأخير عندما انتقل إلى باريس سان جيرمان صيف 2017. وأوضح نيمار خلال مؤتمر صحفي مقام في بارا البرازيلية لدى سؤاله عن الدوري السعودي: أؤكد لك أن كرة القدم هي نفسها، الكرة هي نفسها ويسجلون الأهداف وبالنظر إلى الأسماء فإن الدوري السعودي بات أقوى من الدوري الفرنسي. التدريبات هناك شديدة ونتعطش أنا وزملائي للفوز هناك بشكل كبير والتتويج مع الهلال. وأضاف: الجميع اعتقد أن الدوري السعودي ضعيف والأمر نفسه حدث معي عندما انتقلت إلى الدوري الفرنسي، حينها ظن الناس الأمر نفسه لكني لم أضرب في حياتي من قبل المدافعين أكثر من هناك. وأبان حول الدوري السعودي: اللاعبون الذين يلعبون هناك يعلمون مدى صعوبة اللعب في الدوري السعودي وأنا متأكد أنه لن يكون أمرا سهلا الفوز بالمسابقة لأن الفرق عززت صفوفها بلاعبين جدد، وستكون بطولة ممتعة وشيقة جدا. وتلعب البرازيل أمام بوليفيا في بارا البرازيلية يوم السبت قبل أن تواجه بيرو يوم الأربعاء ضمن تصفيات كأس العالم لمنتخبات أميركا الجنوبية. \n"
          ]
        }
      ],
      "source": [
        "import regex\n",
        "text = regex.sub(\"[\\r\\n\\f]+\", \" \", text)\n",
        "print (text)"
      ]
    },
    {
      "cell_type": "code",
      "execution_count": 7,
      "metadata": {
        "colab": {
          "base_uri": "https://localhost:8080/"
        },
        "id": "J5mTVnmey1ZF",
        "outputId": "678d68c6-2d81-49ce-9ffa-705d71cf9b4c"
      },
      "outputs": [
        {
          "name": "stdout",
          "output_type": "stream",
          "text": [
            "2023-12-04 15:55:30 | INFO | octopus_cli | Octopus Translate Command Line Interface\n",
            "2023-12-04 15:55:30 | INFO | octopus_cli | Loading model from UBC-NLP/octopus\n",
            "2023-12-04 15:55:35 | INFO | octopus_cli | Run the model with CPU\n",
            "2023-12-04 15:55:35 | INFO | octopus_cli | Task: Title Generation Method: Input Text\n",
            "2023-12-04 15:55:35 | INFO | octopus_cli | Using beam search\n",
            "2023-12-04 15:55:35 | INFO | octopus_cli | Add input to cpu\n",
            "Output#1: نيمار: الدوري السعودي أقوى من الفرنسي\n",
            "Output#2: نيمار: الدوري السعودي أقوى من الدوري الفرنسي\n",
            "Output#3: نيمار: أعرف أن الدوري السعودي أقوى من الدوري الفرنسي\n",
            "Output#4: نيمار: الدوري السعودي بات أقوى من الدوري الفرنسي\n",
            "Output#5: نيمار: أعرف أن الدوري السعودي أقوى من الفرنسي\n"
          ]
        }
      ],
      "source": [
        " # Beam search is the default generation method on Octopus toolkit\n",
        "!octopus --prefix \"generate_title\" --text \"{text}\" --max_outputs 5"
      ]
    },
    {
      "cell_type": "markdown",
      "metadata": {
        "id": "IxXNAdmEGApC"
      },
      "source": [
        "## (3) Using greedy search\n",
        "- Greedy search default setting:\n",
        "  - **-s** or **--seq_length**: The maximum sequence length value, *default vlaue is 300*"
      ]
    },
    {
      "cell_type": "code",
      "execution_count": 49,
      "metadata": {
        "colab": {
          "base_uri": "https://localhost:8080/"
        },
        "id": "Ilx8hd44CXYS",
        "outputId": "65741732-fe6e-431d-d5b0-3727ca9c073e"
      },
      "outputs": [
        {
          "name": "stdout",
          "output_type": "stream",
          "text": [
            "2023-12-04 02:05:55 | INFO | octopus.translate_cli | Octopus Translate Command Line Interface\n",
            "2023-12-04 02:05:55 | INFO | octopus.translate_cli | Loading model from UBC-NLP/octopus\n",
            "/Library/Frameworks/Python.framework/Versions/3.10/lib/python3.10/site-packages/transformers/utils/hub.py:374: FutureWarning: The `use_auth_token` argument is deprecated and will be removed in v5 of Transformers. Please use `token` instead.\n",
            "  warnings.warn(\n",
            "2023-12-04 02:06:07 | INFO | octopus.translate_cli | Run the model with CPU\n",
            "2023-12-04 02:06:07 | INFO | octopus.translate_cli | Task: Question Answering Method: Input Text\n",
            "2023-12-04 02:06:07 | INFO | octopus.translate_cli | Using greedy search\n",
            "Output: صيف 2017\n"
          ]
        }
      ],
      "source": [
        "qa_example=f\"[context: {text}] [question: متي انتقل بيمار الي باريس سان جيرمان؟]\"\n",
        "!octopus --prefix \"answer_question\" --search_method greedy --text \"{qa_example}\""
      ]
    },
    {
      "cell_type": "markdown",
      "metadata": {
        "id": "cNDGxEorGcM5"
      },
      "source": [
        "## (4) Using sampling search\n",
        "- Sampling search default setting:\n",
        "  - **-s** or **--seq_length**: The maximum sequence length value, *default value is 300*\n",
        "  - **-o** or **--max_outputs**: The maximum of the output tanslations (*default value is 1*)\n",
        "  - **-k** or **--top_k**: Sample from top K likely next words instead of all words (*default value is 50*)\n",
        "  - **-p** or **--top_p**: Sample from the smallest set whose cumulative probability mass exceeds p for next words (*default value is 0.95*)"
      ]
    },
    {
      "cell_type": "code",
      "execution_count": 51,
      "metadata": {
        "colab": {
          "base_uri": "https://localhost:8080/"
        },
        "id": "xvW56rEiCgnf",
        "outputId": "badd2cb5-c8ce-4e83-f8fb-995386c533f9"
      },
      "outputs": [
        {
          "name": "stdout",
          "output_type": "stream",
          "text": [
            "2023-12-04 02:08:19 | INFO | octopus.translate_cli | Octopus Translate Command Line Interface\n",
            "2023-12-04 02:08:19 | INFO | octopus.translate_cli | Loading model from UBC-NLP/octopus\n",
            "/Library/Frameworks/Python.framework/Versions/3.10/lib/python3.10/site-packages/transformers/utils/hub.py:374: FutureWarning: The `use_auth_token` argument is deprecated and will be removed in v5 of Transformers. Please use `token` instead.\n",
            "  warnings.warn(\n",
            "2023-12-04 02:08:24 | INFO | octopus.translate_cli | Run the model with CPU\n",
            "2023-12-04 02:08:24 | INFO | octopus.translate_cli | Task: Paraphrase Method: Input Text\n",
            "2023-12-04 02:08:24 | INFO | octopus.translate_cli | Using sampling search\n",
            "Output: بالتزامن مع حالة التأهب في شرق ليبيا بسبب إعصار دانيال الذي ضربها، انضمت مصر إلى العاصفة ليشمل أجزاء من غرب البلاد، بما في ذلك مدن سل قم ومنارة مطروح والإسكندرية. وأظهرت صور الأقمار الصناعية المختلفة شكل العاصفة التي ضربت الباب المصري، مع طبقات من السحب المختلفة والأتربة المصاحبة لها.\n"
          ]
        }
      ],
      "source": [
        "text=\"\"\"\n",
        "بالتزامن مع استنفار ليبيا لاسيما في الشرق جراء الإعصار دانيال الذي ضربها، وصلت العاصفة دانيال أيضا إلى مصر وضربت محافظتين في شمال البلاد، هما مرسى مطروح والإسكندرية فقد غطت العاصفة مناطق الحدود المصرية غرب البلاد، وشملت مدن السلوم وسيوة ومطروح والإسكندرية. وبينت القنوات المختلفة لصور الأقمار الصناعية شكل العاصفة التي طرقت الأبواب المصرية. وأظهرت طبقات من السحب المختلفة والأتربة المصاحبة لها.\n",
        "\"\"\"\n",
        "!octopus --prefix \"paraphrase\" --search_method sampling --text \"{text}\""
      ]
    },
    {
      "cell_type": "markdown",
      "metadata": {
        "id": "sTGSrBa9JWdL"
      },
      "source": [
        "## (5) Read text from file\n",
        "- **-f** or **--input_file**: import the text from file. The translation will saved on the JSON format file\n",
        "- **-bs** or **--batch_size**: The maximum number of source examples utilized in one iteration (default value is 25)"
      ]
    },
    {
      "cell_type": "code",
      "execution_count": 2,
      "metadata": {
        "colab": {
          "base_uri": "https://localhost:8080/"
        },
        "id": "JJ_-w_y8JyGt",
        "outputId": "09f1caea-ab4e-441e-97ff-3f3180babd5b"
      },
      "outputs": [
        {
          "name": "stdout",
          "output_type": "stream",
          "text": [
            "zsh:1: command not found: wget\n"
          ]
        }
      ],
      "source": [
        "!wget https://raw.githubusercontent.com/UBC-NLP/octopus/main/examples/samples.txt"
      ]
    },
    {
      "cell_type": "code",
      "execution_count": 4,
      "metadata": {
        "colab": {
          "base_uri": "https://localhost:8080/"
        },
        "id": "S0TI6W24HGk9",
        "outputId": "5aa783b7-f8ed-43c3-a75b-dada20996083"
      },
      "outputs": [
        {
          "name": "stdout",
          "output_type": "stream",
          "text": [
            "2023-12-04 02:17:11 | INFO | octopus.translate_cli | Octopus Translate Command Line Interface\n",
            "2023-12-04 02:17:11 | INFO | octopus.translate_cli | Loading model from UBC-NLP/octopus\n",
            "/Library/Frameworks/Python.framework/Versions/3.10/lib/python3.10/site-packages/transformers/utils/hub.py:374: FutureWarning: The `use_auth_token` argument is deprecated and will be removed in v5 of Transformers. Please use `token` instead.\n",
            "  warnings.warn(\n",
            "2023-12-04 02:17:17 | INFO | octopus.translate_cli | Run the model with CPU\n",
            "2023-12-04 02:17:17 | INFO | octopus.translate_cli | Task: Translitration English-to-Arabic Method: Input File samples.txt\n",
            "2023-12-04 02:17:17 | INFO | octopus.translate_cli | Using beam search\n",
            "2023-12-04 02:17:17 | INFO | octopus.translate_cli | Loading source text from file (samples.txt)\n",
            "Downloading data files: 100%|██████████████████| 1/1 [00:00<00:00, 14074.85it/s]\n",
            "Extracting data files: 100%|█████████████████████| 1/1 [00:00<00:00, 391.37it/s]\n",
            "Generating source split: 10 examples [00:00, 547.56 examples/s]\n",
            "2023-12-04 02:17:18 | INFO | octopus.translate_cli | Running tokenizer on source text\n",
            "Map: 100%|██████████████████████████████| 10/10 [00:00<00:00, 612.56 examples/s]\n",
            "2023-12-04 02:17:20 | INFO | octopus.translate_cli | >>>>>Working on cpu\n",
            "translate:   0%|                                          | 0/1 [00:00<?, ?it/s]2023-12-04 02:17:20 | INFO | octopus.translate_cli | Translating with batch_size 25 and #samples = 1\n",
            "translate: 100%|██████████████████████████████████| 1/1 [00:00<00:00,  1.27it/s]\n",
            "2023-12-04 02:17:20 | INFO | octopus.translate_cli | Extract outputs\n",
            "2023-12-04 02:17:20 | INFO | octopus.translate_cli | The translation are saved on samples_octopus_outputs.json\n"
          ]
        }
      ],
      "source": [
        " # translate sentences that imported from file using default Beam search\n",
        "!octopus --prefix \"translitrate_en2ar\" --input_file samples.txt"
      ]
    },
    {
      "cell_type": "code",
      "execution_count": 6,
      "metadata": {
        "colab": {
          "base_uri": "https://localhost:8080/",
          "height": 301
        },
        "id": "eqwIswDDKjeB",
        "outputId": "3bfa293a-c2d7-4b7f-ef6b-c8e8b3e94bdc"
      },
      "outputs": [
        {
          "data": {
            "text/html": [
              "<div>\n",
              "<style scoped>\n",
              "    .dataframe tbody tr th:only-of-type {\n",
              "        vertical-align: middle;\n",
              "    }\n",
              "\n",
              "    .dataframe tbody tr th {\n",
              "        vertical-align: top;\n",
              "    }\n",
              "\n",
              "    .dataframe thead th {\n",
              "        text-align: right;\n",
              "    }\n",
              "</style>\n",
              "<table border=\"1\" class=\"dataframe\">\n",
              "  <thead>\n",
              "    <tr style=\"text-align: right;\">\n",
              "      <th></th>\n",
              "      <th>source</th>\n",
              "      <th>target</th>\n",
              "      <th>task</th>\n",
              "    </tr>\n",
              "  </thead>\n",
              "  <tbody>\n",
              "    <tr>\n",
              "      <th>0</th>\n",
              "      <td>Mantorov</td>\n",
              "      <td>ماموروف</td>\n",
              "      <td>Translitration English-to-Arabic</td>\n",
              "    </tr>\n",
              "    <tr>\n",
              "      <th>1</th>\n",
              "      <td>Meccano</td>\n",
              "      <td>ميتكو</td>\n",
              "      <td>Translitration English-to-Arabic</td>\n",
              "    </tr>\n",
              "    <tr>\n",
              "      <th>2</th>\n",
              "      <td>Laslo</td>\n",
              "      <td>لا زالو</td>\n",
              "      <td>Translitration English-to-Arabic</td>\n",
              "    </tr>\n",
              "    <tr>\n",
              "      <th>3</th>\n",
              "      <td>Mishari</td>\n",
              "      <td>مشاري</td>\n",
              "      <td>Translitration English-to-Arabic</td>\n",
              "    </tr>\n",
              "    <tr>\n",
              "      <th>4</th>\n",
              "      <td>Heiber</td>\n",
              "      <td>هايبر</td>\n",
              "      <td>Translitration English-to-Arabic</td>\n",
              "    </tr>\n",
              "    <tr>\n",
              "      <th>5</th>\n",
              "      <td>Korwin</td>\n",
              "      <td>كورينا</td>\n",
              "      <td>Translitration English-to-Arabic</td>\n",
              "    </tr>\n",
              "    <tr>\n",
              "      <th>6</th>\n",
              "      <td>Truliner</td>\n",
              "      <td>ترولينر</td>\n",
              "      <td>Translitration English-to-Arabic</td>\n",
              "    </tr>\n",
              "    <tr>\n",
              "      <th>7</th>\n",
              "      <td>Kuttner</td>\n",
              "      <td>كاندر</td>\n",
              "      <td>Translitration English-to-Arabic</td>\n",
              "    </tr>\n",
              "    <tr>\n",
              "      <th>8</th>\n",
              "      <td>Leumul</td>\n",
              "      <td>ليمو</td>\n",
              "      <td>Translitration English-to-Arabic</td>\n",
              "    </tr>\n",
              "    <tr>\n",
              "      <th>9</th>\n",
              "      <td>Dirhael</td>\n",
              "      <td>دهمش</td>\n",
              "      <td>Translitration English-to-Arabic</td>\n",
              "    </tr>\n",
              "  </tbody>\n",
              "</table>\n",
              "</div>"
            ],
            "text/plain": [
              "     source   target                              task\n",
              "0  Mantorov  ماموروف  Translitration English-to-Arabic\n",
              "1   Meccano    ميتكو  Translitration English-to-Arabic\n",
              "2     Laslo  لا زالو  Translitration English-to-Arabic\n",
              "3   Mishari    مشاري  Translitration English-to-Arabic\n",
              "4    Heiber    هايبر  Translitration English-to-Arabic\n",
              "5    Korwin   كورينا  Translitration English-to-Arabic\n",
              "6  Truliner  ترولينر  Translitration English-to-Arabic\n",
              "7   Kuttner    كاندر  Translitration English-to-Arabic\n",
              "8    Leumul     ليمو  Translitration English-to-Arabic\n",
              "9   Dirhael     دهمش  Translitration English-to-Arabic"
            ]
          },
          "execution_count": 6,
          "metadata": {},
          "output_type": "execute_result"
        }
      ],
      "source": [
        "#read the output file\n",
        "import pandas as pd\n",
        "df = pd.read_json(\"samples_octopus_outputs.json\", orient='records', lines=True)\n",
        "df"
      ]
    }
  ],
  "metadata": {
    "colab": {
      "collapsed_sections": [],
      "name": "turjuman_translate_cli.ipynb",
      "provenance": []
    },
    "kernelspec": {
      "display_name": "Python 3",
      "name": "python3"
    },
    "language_info": {
      "codemirror_mode": {
        "name": "ipython",
        "version": 3
      },
      "file_extension": ".py",
      "mimetype": "text/x-python",
      "name": "python",
      "nbconvert_exporter": "python",
      "pygments_lexer": "ipython3",
      "version": "3.10.0"
    }
  },
  "nbformat": 4,
  "nbformat_minor": 0
}
