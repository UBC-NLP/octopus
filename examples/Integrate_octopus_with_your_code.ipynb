{
  "cells": [
    {
      "cell_type": "markdown",
      "metadata": {
        "id": "vXEG1umFh-aY"
      },
      "source": [
        "# OCTOPUS\n",
        "\n",
        "<p align=\"center\">\n",
        "    <br>\n",
        "    <img src=\"https://github.com/UBC-NLP/octopus/raw/main/images/octopus.jpg\" width=\"70%\" height=\"70%\"/>\n",
        "    <br>\n",
        "<p>\n",
        "Octopus is a neural machine generation toolkit for Arabic Natural Lnagauge Generation (NLG) that described in our ArabiNLP 2023 paper: [**OCTOPUS: A Multitask Model and Toolkit for Arabic Natural Language Generation**](https://arxiv.org/abs/2310.16127v1). \n",
        "\n",
        "Octopus designed for eight machine generation tasks, encompassing diacritization, grammatical error correction, news headlines generation, paraphrasing, question answering, question generation, and\n",
        "transliteration. This comprehensive package includes a Python library along with associated command-line scripts.\n",
        "\n",
        "---\n",
        "\n",
        "\n",
        "https://github.com/UBC-NLP/octopus"
      ]
    },
    {
      "cell_type": "markdown",
      "metadata": {
        "id": "4reRbEghiBxt"
      },
      "source": [
        "## (1) Install Octopus"
      ]
    },
    {
      "cell_type": "code",
      "execution_count": 52,
      "metadata": {
        "id": "GyUFV9b6FaJI"
      },
      "outputs": [],
      "source": [
        "!pip install git+https://github.com/UBC-NLP/octopus.git --q"
      ]
    },
    {
      "cell_type": "markdown",
      "metadata": {
        "id": "yXqFDD05iL21"
      },
      "source": [
        "## (2) Initial octopus object"
      ]
    },
    {
      "cell_type": "code",
      "execution_count": 1,
      "metadata": {
        "id": "ved3JKTrFfWl"
      },
      "outputs": [
        {
          "name": "stderr",
          "output_type": "stream",
          "text": [
            "/Library/Frameworks/Python.framework/Versions/3.10/lib/python3.10/site-packages/tqdm/auto.py:21: TqdmWarning: IProgress not found. Please update jupyter and ipywidgets. See https://ipywidgets.readthedocs.io/en/stable/user_install.html\n",
            "  from .autonotebook import tqdm as notebook_tqdm\n"
          ]
        }
      ],
      "source": [
        "import logging\n",
        "import os\n",
        "from octopus import octopus"
      ]
    },
    {
      "cell_type": "code",
      "execution_count": 2,
      "metadata": {
        "id": "wP1miA5bQoqQ"
      },
      "outputs": [],
      "source": [
        "logging.basicConfig(\n",
        "    format=\"%(asctime)s | %(levelname)s | %(name)s | %(message)s\",\n",
        "    datefmt=\"%Y-%m-%d %H:%M:%S\",\n",
        "    level=os.environ.get(\"LOGLEVEL\", \"INFO\").upper(),\n",
        ")\n",
        "logger = logging.getLogger(\"octopus\")\n",
        "cache_dir=\"./octopus_cache/\"\n"
      ]
    },
    {
      "cell_type": "code",
      "execution_count": 4,
      "metadata": {
        "colab": {
          "base_uri": "https://localhost:8080/"
        },
        "id": "ldRl0S0KQbZz",
        "outputId": "1aecba59-0f87-4ec3-ff43-0cbc66096cab"
      },
      "outputs": [
        {
          "name": "stderr",
          "output_type": "stream",
          "text": [
            "2023-12-04 02:23:44 | INFO | octopus | Loading model from UBC-NLP/octopus\n",
            "/Library/Frameworks/Python.framework/Versions/3.10/lib/python3.10/site-packages/transformers/utils/hub.py:374: FutureWarning: The `use_auth_token` argument is deprecated and will be removed in v5 of Transformers. Please use `token` instead.\n",
            "  warnings.warn(\n",
            "2023-12-04 02:23:49 | INFO | octopus | Run the model with CPU\n"
          ]
        }
      ],
      "source": [
        "oct_obj = octopus(logger, cache_dir)"
      ]
    },
    {
      "cell_type": "markdown",
      "metadata": {},
      "source": [
        "## Octopus Tasks\n",
        "  - **Prefix**: `diacritize` **Task Name**: Diartization\n",
        "  - **Prefix**: `correct_grammar` **Task Name**: Grammatical Error Correction\n",
        "  - **Prefix**: `paraphrase` **Task Name**: Paraphrase\n",
        "  - **Prefix**: `answer_question` **Task Name**: Question Answering\n",
        "  - **Prefix**: `generate_question` **Task Name**: Question Generation\n",
        "  - **Prefix**: `summarize` **Task Name**: Summarization\n",
        "  - **Prefix**: `generate_title` **Task Name**: Title Generation\n",
        "  - **Prefix**: `translitrate_ar2en` **Task Name**: Translitration Arabic-to-English\n",
        "  - **Prefix**: `translitrate_en2ar` **Task Name**: Translitration English-to-Arabic"
      ]
    },
    {
      "cell_type": "markdown",
      "metadata": {
        "id": "vNywJ2dxis-b"
      },
      "source": [
        "## (2) Using beam search (default)\n",
        "\n",
        "> Indented block\n",
        "\n",
        "\n",
        "- **Beam search** is the *default* generation method on Turjuman\n",
        "- Beam search default setting:\n",
        "  - **seq_length**: The maximum sequence length value, *default value is 300*\n",
        "  - **max_outputs**: The maximum of the output tanslations (*default value is 1*)\n",
        "  - **num_beams NUM_BEAMS**: Number of beams (*default value is 1*)\n",
        "  - **no_repeat_ngram_size**: Number of n-gram that doesn't appears twice (*default value is 2*)"
      ]
    },
    {
      "cell_type": "code",
      "execution_count": 19,
      "metadata": {},
      "outputs": [],
      "source": [
        "text=\"\"\"\n",
        "أكد النجم البرازيلي نيمار مهاجم نادي الهلال أن الدوري السعودي بات أكثر قوة من الدوري الفرنسي مذكراً الجميع بتجربته في الأخير عندما انتقل إلى باريس سان جيرمان صيف 2017.\n",
        "وأوضح نيمار خلال مؤتمر صحفي مقام في بارا البرازيلية لدى سؤاله عن الدوري السعودي: أؤكد لك أن كرة القدم هي نفسها، الكرة هي نفسها ويسجلون الأهداف وبالنظر إلى الأسماء فإن الدوري السعودي بات أقوى من الدوري الفرنسي. التدريبات هناك شديدة ونتعطش أنا وزملائي للفوز هناك بشكل كبير والتتويج مع الهلال.\n",
        "وأضاف: الجميع اعتقد أن الدوري السعودي ضعيف والأمر نفسه حدث معي عندما انتقلت إلى الدوري الفرنسي، حينها ظن الناس الأمر نفسه لكني لم أضرب في حياتي من قبل المدافعين أكثر من هناك.\n",
        "وأبان حول الدوري السعودي: اللاعبون الذين يلعبون هناك يعلمون مدى صعوبة اللعب في الدوري السعودي وأنا متأكد أنه لن يكون أمرا سهلا الفوز بالمسابقة لأن الفرق عززت صفوفها بلاعبين جدد، وستكون بطولة ممتعة وشيقة جدا.\n",
        "وتلعب البرازيل أمام بوليفيا في بارا البرازيلية يوم السبت قبل أن تواجه بيرو يوم الأربعاء ضمن تصفيات كأس العالم لمنتخبات أميركا الجنوبية.\n",
        "\"\"\""
      ]
    },
    {
      "cell_type": "code",
      "execution_count": 20,
      "metadata": {},
      "outputs": [
        {
          "name": "stdout",
          "output_type": "stream",
          "text": [
            " أكد النجم البرازيلي نيمار مهاجم نادي الهلال أن الدوري السعودي بات أكثر قوة من الدوري الفرنسي مذكراً الجميع بتجربته في الأخير عندما انتقل إلى باريس سان جيرمان صيف 2017. وأوضح نيمار خلال مؤتمر صحفي مقام في بارا البرازيلية لدى سؤاله عن الدوري السعودي: أؤكد لك أن كرة القدم هي نفسها، الكرة هي نفسها ويسجلون الأهداف وبالنظر إلى الأسماء فإن الدوري السعودي بات أقوى من الدوري الفرنسي. التدريبات هناك شديدة ونتعطش أنا وزملائي للفوز هناك بشكل كبير والتتويج مع الهلال. وأضاف: الجميع اعتقد أن الدوري السعودي ضعيف والأمر نفسه حدث معي عندما انتقلت إلى الدوري الفرنسي، حينها ظن الناس الأمر نفسه لكني لم أضرب في حياتي من قبل المدافعين أكثر من هناك. وأبان حول الدوري السعودي: اللاعبون الذين يلعبون هناك يعلمون مدى صعوبة اللعب في الدوري السعودي وأنا متأكد أنه لن يكون أمرا سهلا الفوز بالمسابقة لأن الفرق عززت صفوفها بلاعبين جدد، وستكون بطولة ممتعة وشيقة جدا. وتلعب البرازيل أمام بوليفيا في بارا البرازيلية يوم السبت قبل أن تواجه بيرو يوم الأربعاء ضمن تصفيات كأس العالم لمنتخبات أميركا الجنوبية. \n"
          ]
        }
      ],
      "source": [
        "import regex\n",
        "text = regex.sub(\"[\\r\\n\\f]+\", \" \", text)\n",
        "print (text)"
      ]
    },
    {
      "cell_type": "code",
      "execution_count": 23,
      "metadata": {
        "colab": {
          "base_uri": "https://localhost:8080/"
        },
        "id": "S9B__5W3FiED",
        "outputId": "d57923c9-2cb6-451b-93d4-ad09bf1ed11b"
      },
      "outputs": [
        {
          "name": "stderr",
          "output_type": "stream",
          "text": [
            "2023-12-04 02:42:03 | INFO | octopus | Using beam search\n"
          ]
        },
        {
          "name": "stdout",
          "output_type": "stream",
          "text": [
            "['نيمار: الدوري السعودي أقوى من الفرنسي']\n"
          ]
        }
      ],
      "source": [
        "prefix = \"generate_title\"\n",
        "text_wz_prefix = f\"{prefix}: {text}\"\n",
        "gen_options = {\"search_method\":\"beam\", \"seq_length\": 300, \"num_beams\":5, \"no_repeat_ngram_size\":2, \"max_outputs\":1}\n",
        "outputs = oct_obj.do_generate(text_wz_prefix,**gen_options)\n",
        "print (outputs)"
      ]
    },
    {
      "cell_type": "markdown",
      "metadata": {
        "id": "cjW3m488jhIL"
      },
      "source": [
        "## (3) Using greedy search\n",
        "- Greedy search default setting:\n",
        "  - **seq_length**: The maximum sequence length value, *default vlaue is 300*"
      ]
    },
    {
      "cell_type": "code",
      "execution_count": 25,
      "metadata": {
        "colab": {
          "base_uri": "https://localhost:8080/"
        },
        "id": "xIoD4qLlYtU_",
        "outputId": "7214ef20-da4b-4f02-fee9-88c60abe520e"
      },
      "outputs": [
        {
          "name": "stderr",
          "output_type": "stream",
          "text": [
            "2023-12-04 02:42:41 | INFO | octopus | Using greedy search\n"
          ]
        },
        {
          "name": "stdout",
          "output_type": "stream",
          "text": [
            "['صيف 2017']\n"
          ]
        }
      ],
      "source": [
        "prefix = \"answer_question\"\n",
        "qa_example=f\"{prefix}: [context: {text}] [question: متي انتقل بيمار الي باريس سان جيرمان؟]\"\n",
        "gen_options = {\"search_method\":\"greedy\", \"seq_length\": 300}\n",
        "outputs = oct_obj.do_generate(qa_example,**gen_options)\n",
        "print (outputs)"
      ]
    },
    {
      "cell_type": "markdown",
      "metadata": {
        "id": "TBfMhgiijuT5"
      },
      "source": [
        "## (4) Using sampling search\n",
        "- Sampling search default setting:\n",
        "  - **seq_length**: The maximum sequence length value, *default value is 300*\n",
        "  - **max_outputs**: The maxmuim of the output tanslations (*default value is 1*)\n",
        "  - **top_k**: Sample from top K likely next words instead of all words (*default value is 50*)\n",
        "  - **top_p**: Sample from the smallest set whose cumulative probability mass exceeds p for next words (*default value is 0.95*)"
      ]
    },
    {
      "cell_type": "code",
      "execution_count": 27,
      "metadata": {
        "colab": {
          "base_uri": "https://localhost:8080/"
        },
        "id": "MuBMQpYAFmGO",
        "outputId": "72959a52-d511-4031-e532-d804aba43ac7"
      },
      "outputs": [
        {
          "name": "stderr",
          "output_type": "stream",
          "text": [
            "2023-12-04 02:43:03 | INFO | octopus | Using sampling search\n"
          ]
        },
        {
          "name": "stdout",
          "output_type": "stream",
          "text": [
            "['بالتزامن مع حالة التأهب في شرق ليبيا بسبب إعصار دانيال الذي ضربها، انضمت مصر إلى العاصفة ليشمل أجزاء من غرب البلاد، بما في ذلك مدن سل قمتيها ومطار مطروح والإسكندرية. وأظهرت صور الأقمار الصناعية المختلفة شكل العاصفة التي ضربت الأبواب المصرية.']\n"
          ]
        }
      ],
      "source": [
        "\n",
        "text=\"\"\"\n",
        "بالتزامن مع استنفار ليبيا لاسيما في الشرق جراء الإعصار دانيال الذي ضربها، وصلت العاصفة دانيال أيضا إلى مصر وضربت محافظتين في شمال البلاد، هما مرسى مطروح والإسكندرية فقد غطت العاصفة مناطق الحدود المصرية غرب البلاد، وشملت مدن السلوم وسيوة ومطروح والإسكندرية. وبينت القنوات المختلفة لصور الأقمار الصناعية شكل العاصفة التي طرقت الأبواب المصرية. وأظهرت طبقات من السحب المختلفة والأتربة المصاحبة لها.\n",
        "\"\"\"\n",
        "\n",
        "prefix = \"paraphrase\"\n",
        "text_wz_prefix=f\"{prefix}: {text}\"\n",
        "gen_options = {\"search_method\":\"sampling\", \"seq_length\": 300, \"max_outputs\":1, \"top_p\":0.95, \"top_k\":50}\n",
        "outputs = oct_obj.do_generate(text_wz_prefix,**gen_options)\n",
        "print (outputs)"
      ]
    },
    {
      "cell_type": "markdown",
      "metadata": {
        "id": "KiDAIcmkkEnx"
      },
      "source": [
        "## (5) Read text from file\n",
        "- **input_file**: import the text from file. The translation will saved on the JSON format file\n",
        "- **batch_size**: The maximum number of source examples utilized in one iteration (default value is 25)\n",
        "- **gen_options**: Generation options "
      ]
    },
    {
      "cell_type": "code",
      "execution_count": 62,
      "metadata": {
        "colab": {
          "base_uri": "https://localhost:8080/"
        },
        "id": "LwmTQwGUk_Nn",
        "outputId": "7713908b-a898-4705-f491-8682f1526b2d"
      },
      "outputs": [
        {
          "name": "stdout",
          "output_type": "stream",
          "text": [
            "--2022-05-18 19:10:23--  https://raw.githubusercontent.com/UBC-NLP/turjuman/main/examples/samples.txt\n",
            "Resolving raw.githubusercontent.com (raw.githubusercontent.com)... 185.199.108.133, 185.199.109.133, 185.199.110.133, ...\n",
            "Connecting to raw.githubusercontent.com (raw.githubusercontent.com)|185.199.108.133|:443... connected.\n",
            "HTTP request sent, awaiting response... 200 OK\n",
            "Length: 732 [text/plain]\n",
            "Saving to: ‘samples.txt’\n",
            "\n",
            "samples.txt         100%[===================>]     732  --.-KB/s    in 0s      \n",
            "\n",
            "2022-05-18 19:10:23 (45.6 MB/s) - ‘samples.txt’ saved [732/732]\n",
            "\n"
          ]
        }
      ],
      "source": [
        "!wget https://raw.githubusercontent.com/UBC-NLP/turjuman/main/examples/samples.txt"
      ]
    },
    {
      "cell_type": "code",
      "execution_count": 15,
      "metadata": {
        "colab": {
          "base_uri": "https://localhost:8080/",
          "height": 272,
          "referenced_widgets": [
            "4b98959b77a940f4b742c690c7e19800",
            "db0083ded3d54644bc5d778d3185c442",
            "2f5a0da96d3e4e78b7ad73dfa9a676d7",
            "8f03731babbb4832a9215d1068689a10",
            "0241b6b0c594488990ea9860778d1c6b",
            "f9fca9c9a805428caed89d98a88c7b72",
            "1a8c52b4aef849f2946a072837f0377d",
            "752336148d9f45b0828ee76db1a9435b",
            "0ec57690f1794324bd8b7eb3bba21e4f",
            "5f44c9cb95954e198c8ca923e75af161",
            "d0d6a0b632fc45019b161151a79f4961",
            "de6cb443d02a43b4801279f00b1b2aaa",
            "d9825ea9de33431790df0711e8ac5a77",
            "6d46ef8a86be4310960522709be51101",
            "33dac95490fb4510bf68b49cb6a0e67c",
            "7c1d092665d14ffcadd44a518aa71051",
            "9bf3de640a7b4434a366d5d18dd753d2",
            "41db3e20324d4ea3837c543fb63882dd",
            "5bb9bada0a67446aad2fc64bbc921948",
            "bddd5a21e4c542448a184c7254dc628b",
            "37eaa0e7cb4c45af9166e52622c0ae19",
            "375239d80176401f813efb112d107e6b"
          ]
        },
        "id": "TC2ycVKAEsmA",
        "outputId": "169c629c-4239-4856-8967-c00e7c3c7bdc"
      },
      "outputs": [
        {
          "name": "stderr",
          "output_type": "stream",
          "text": [
            "2023-12-04 02:37:48 | INFO | octopus | Using beam search\n",
            "2023-12-04 02:37:48 | INFO | octopus | Loading source text from file (samples.txt)\n",
            "huggingface/tokenizers: The current process just got forked, after parallelism has already been used. Disabling parallelism to avoid deadlocks...\n",
            "To disable this warning, you can either:\n",
            "\t- Avoid using `tokenizers` before the fork if possible\n",
            "\t- Explicitly set the environment variable TOKENIZERS_PARALLELISM=(true | false)\n",
            "2023-12-04 02:37:48 | INFO | octopus | Running tokenizer on source text\n",
            "Map: 100%|██████████| 10/10 [00:00<00:00, 544.84 examples/s]\n",
            "2023-12-04 02:37:50 | INFO | octopus | >>>>>Working on cpu\n",
            "translate:   0%|          | 0/1 [00:00<?, ?it/s]2023-12-04 02:37:50 | INFO | octopus | Translating with batch_size 25 and #samples = 1\n",
            "translate: 100%|██████████| 1/1 [00:00<00:00,  1.49it/s]\n",
            "2023-12-04 02:37:51 | INFO | octopus | Extract outputs\n",
            "2023-12-04 02:37:51 | INFO | octopus | The translation are saved on samples_octopus_outputs.json\n"
          ]
        }
      ],
      "source": [
        "gen_options = { \"search_method\":\"beam\", \"seq_length\": 300, \"num_beams\":5, \"no_repeat_ngram_size\":2, \"max_outputs\":1}\n",
        "oct_obj.from_file(\"translitrate_en2ar\", \"samples.txt\", batch_size=25, **gen_options)"
      ]
    },
    {
      "cell_type": "code",
      "execution_count": 16,
      "metadata": {
        "colab": {
          "base_uri": "https://localhost:8080/",
          "height": 332
        },
        "id": "0pxAlVkrlFbT",
        "outputId": "a840e498-88fd-4643-b78c-73a2ec03609c"
      },
      "outputs": [
        {
          "data": {
            "text/html": [
              "<div>\n",
              "<style scoped>\n",
              "    .dataframe tbody tr th:only-of-type {\n",
              "        vertical-align: middle;\n",
              "    }\n",
              "\n",
              "    .dataframe tbody tr th {\n",
              "        vertical-align: top;\n",
              "    }\n",
              "\n",
              "    .dataframe thead th {\n",
              "        text-align: right;\n",
              "    }\n",
              "</style>\n",
              "<table border=\"1\" class=\"dataframe\">\n",
              "  <thead>\n",
              "    <tr style=\"text-align: right;\">\n",
              "      <th></th>\n",
              "      <th>source</th>\n",
              "      <th>target</th>\n",
              "      <th>task</th>\n",
              "    </tr>\n",
              "  </thead>\n",
              "  <tbody>\n",
              "    <tr>\n",
              "      <th>0</th>\n",
              "      <td>Mantorov</td>\n",
              "      <td>ماموروف</td>\n",
              "      <td>Translitration English-to-Arabic</td>\n",
              "    </tr>\n",
              "    <tr>\n",
              "      <th>1</th>\n",
              "      <td>Meccano</td>\n",
              "      <td>ميتكو</td>\n",
              "      <td>Translitration English-to-Arabic</td>\n",
              "    </tr>\n",
              "    <tr>\n",
              "      <th>2</th>\n",
              "      <td>Laslo</td>\n",
              "      <td>لا زالو</td>\n",
              "      <td>Translitration English-to-Arabic</td>\n",
              "    </tr>\n",
              "    <tr>\n",
              "      <th>3</th>\n",
              "      <td>Mishari</td>\n",
              "      <td>مشاري</td>\n",
              "      <td>Translitration English-to-Arabic</td>\n",
              "    </tr>\n",
              "    <tr>\n",
              "      <th>4</th>\n",
              "      <td>Heiber</td>\n",
              "      <td>هايبر</td>\n",
              "      <td>Translitration English-to-Arabic</td>\n",
              "    </tr>\n",
              "    <tr>\n",
              "      <th>5</th>\n",
              "      <td>Korwin</td>\n",
              "      <td>كورينا</td>\n",
              "      <td>Translitration English-to-Arabic</td>\n",
              "    </tr>\n",
              "    <tr>\n",
              "      <th>6</th>\n",
              "      <td>Truliner</td>\n",
              "      <td>ترولينر</td>\n",
              "      <td>Translitration English-to-Arabic</td>\n",
              "    </tr>\n",
              "    <tr>\n",
              "      <th>7</th>\n",
              "      <td>Kuttner</td>\n",
              "      <td>كاندر</td>\n",
              "      <td>Translitration English-to-Arabic</td>\n",
              "    </tr>\n",
              "    <tr>\n",
              "      <th>8</th>\n",
              "      <td>Leumul</td>\n",
              "      <td>ليمو</td>\n",
              "      <td>Translitration English-to-Arabic</td>\n",
              "    </tr>\n",
              "    <tr>\n",
              "      <th>9</th>\n",
              "      <td>Dirhael</td>\n",
              "      <td>دهمش</td>\n",
              "      <td>Translitration English-to-Arabic</td>\n",
              "    </tr>\n",
              "  </tbody>\n",
              "</table>\n",
              "</div>"
            ],
            "text/plain": [
              "     source   target                              task\n",
              "0  Mantorov  ماموروف  Translitration English-to-Arabic\n",
              "1   Meccano    ميتكو  Translitration English-to-Arabic\n",
              "2     Laslo  لا زالو  Translitration English-to-Arabic\n",
              "3   Mishari    مشاري  Translitration English-to-Arabic\n",
              "4    Heiber    هايبر  Translitration English-to-Arabic\n",
              "5    Korwin   كورينا  Translitration English-to-Arabic\n",
              "6  Truliner  ترولينر  Translitration English-to-Arabic\n",
              "7   Kuttner    كاندر  Translitration English-to-Arabic\n",
              "8    Leumul     ليمو  Translitration English-to-Arabic\n",
              "9   Dirhael     دهمش  Translitration English-to-Arabic"
            ]
          },
          "execution_count": 16,
          "metadata": {},
          "output_type": "execute_result"
        }
      ],
      "source": [
        "#read the output file\n",
        "import pandas as pd\n",
        "pd.set_option('display.max_columns', None)  \n",
        "pd.set_option('display.max_colwidth', None)\n",
        "df = pd.read_json(\"samples_octopus_outputs.json\", orient='records', lines=True)\n",
        "df"
      ]
    },
    {
      "cell_type": "code",
      "execution_count": null,
      "metadata": {
        "id": "UZks8EnElsFj"
      },
      "outputs": [],
      "source": []
    }
  ],
  "metadata": {
    "accelerator": "GPU",
    "colab": {
      "collapsed_sections": [],
      "name": "Integrate_turjuman_with_your_code.ipynb",
      "provenance": []
    },
    "kernelspec": {
      "display_name": "Python 3",
      "name": "python3"
    },
    "language_info": {
      "codemirror_mode": {
        "name": "ipython",
        "version": 3
      },
      "file_extension": ".py",
      "mimetype": "text/x-python",
      "name": "python",
      "nbconvert_exporter": "python",
      "pygments_lexer": "ipython3",
      "version": "3.10.0"
    },
    "widgets": {
      "application/vnd.jupyter.widget-state+json": {
        "0241b6b0c594488990ea9860778d1c6b": {
          "model_module": "@jupyter-widgets/base",
          "model_module_version": "1.2.0",
          "model_name": "LayoutModel",
          "state": {
            "_model_module": "@jupyter-widgets/base",
            "_model_module_version": "1.2.0",
            "_model_name": "LayoutModel",
            "_view_count": null,
            "_view_module": "@jupyter-widgets/base",
            "_view_module_version": "1.2.0",
            "_view_name": "LayoutView",
            "align_content": null,
            "align_items": null,
            "align_self": null,
            "border": null,
            "bottom": null,
            "display": null,
            "flex": null,
            "flex_flow": null,
            "grid_area": null,
            "grid_auto_columns": null,
            "grid_auto_flow": null,
            "grid_auto_rows": null,
            "grid_column": null,
            "grid_gap": null,
            "grid_row": null,
            "grid_template_areas": null,
            "grid_template_columns": null,
            "grid_template_rows": null,
            "height": null,
            "justify_content": null,
            "justify_items": null,
            "left": null,
            "margin": null,
            "max_height": null,
            "max_width": null,
            "min_height": null,
            "min_width": null,
            "object_fit": null,
            "object_position": null,
            "order": null,
            "overflow": null,
            "overflow_x": null,
            "overflow_y": null,
            "padding": null,
            "right": null,
            "top": null,
            "visibility": null,
            "width": null
          }
        },
        "0ec57690f1794324bd8b7eb3bba21e4f": {
          "model_module": "@jupyter-widgets/controls",
          "model_module_version": "1.5.0",
          "model_name": "ProgressStyleModel",
          "state": {
            "_model_module": "@jupyter-widgets/controls",
            "_model_module_version": "1.5.0",
            "_model_name": "ProgressStyleModel",
            "_view_count": null,
            "_view_module": "@jupyter-widgets/base",
            "_view_module_version": "1.2.0",
            "_view_name": "StyleView",
            "bar_color": null,
            "description_width": ""
          }
        },
        "1a8c52b4aef849f2946a072837f0377d": {
          "model_module": "@jupyter-widgets/controls",
          "model_module_version": "1.5.0",
          "model_name": "DescriptionStyleModel",
          "state": {
            "_model_module": "@jupyter-widgets/controls",
            "_model_module_version": "1.5.0",
            "_model_name": "DescriptionStyleModel",
            "_view_count": null,
            "_view_module": "@jupyter-widgets/base",
            "_view_module_version": "1.2.0",
            "_view_name": "StyleView",
            "description_width": ""
          }
        },
        "2f5a0da96d3e4e78b7ad73dfa9a676d7": {
          "model_module": "@jupyter-widgets/controls",
          "model_module_version": "1.5.0",
          "model_name": "FloatProgressModel",
          "state": {
            "_dom_classes": [],
            "_model_module": "@jupyter-widgets/controls",
            "_model_module_version": "1.5.0",
            "_model_name": "FloatProgressModel",
            "_view_count": null,
            "_view_module": "@jupyter-widgets/controls",
            "_view_module_version": "1.5.0",
            "_view_name": "ProgressView",
            "bar_style": "success",
            "description": "",
            "description_tooltip": null,
            "layout": "IPY_MODEL_752336148d9f45b0828ee76db1a9435b",
            "max": 1,
            "min": 0,
            "orientation": "horizontal",
            "style": "IPY_MODEL_0ec57690f1794324bd8b7eb3bba21e4f",
            "value": 1
          }
        },
        "33dac95490fb4510bf68b49cb6a0e67c": {
          "model_module": "@jupyter-widgets/controls",
          "model_module_version": "1.5.0",
          "model_name": "HTMLModel",
          "state": {
            "_dom_classes": [],
            "_model_module": "@jupyter-widgets/controls",
            "_model_module_version": "1.5.0",
            "_model_name": "HTMLModel",
            "_view_count": null,
            "_view_module": "@jupyter-widgets/controls",
            "_view_module_version": "1.5.0",
            "_view_name": "HTMLView",
            "description": "",
            "description_tooltip": null,
            "layout": "IPY_MODEL_37eaa0e7cb4c45af9166e52622c0ae19",
            "placeholder": "​",
            "style": "IPY_MODEL_375239d80176401f813efb112d107e6b",
            "value": " 1/1 [00:00&lt;00:00, 30.94ba/s]"
          }
        },
        "375239d80176401f813efb112d107e6b": {
          "model_module": "@jupyter-widgets/controls",
          "model_module_version": "1.5.0",
          "model_name": "DescriptionStyleModel",
          "state": {
            "_model_module": "@jupyter-widgets/controls",
            "_model_module_version": "1.5.0",
            "_model_name": "DescriptionStyleModel",
            "_view_count": null,
            "_view_module": "@jupyter-widgets/base",
            "_view_module_version": "1.2.0",
            "_view_name": "StyleView",
            "description_width": ""
          }
        },
        "37eaa0e7cb4c45af9166e52622c0ae19": {
          "model_module": "@jupyter-widgets/base",
          "model_module_version": "1.2.0",
          "model_name": "LayoutModel",
          "state": {
            "_model_module": "@jupyter-widgets/base",
            "_model_module_version": "1.2.0",
            "_model_name": "LayoutModel",
            "_view_count": null,
            "_view_module": "@jupyter-widgets/base",
            "_view_module_version": "1.2.0",
            "_view_name": "LayoutView",
            "align_content": null,
            "align_items": null,
            "align_self": null,
            "border": null,
            "bottom": null,
            "display": null,
            "flex": null,
            "flex_flow": null,
            "grid_area": null,
            "grid_auto_columns": null,
            "grid_auto_flow": null,
            "grid_auto_rows": null,
            "grid_column": null,
            "grid_gap": null,
            "grid_row": null,
            "grid_template_areas": null,
            "grid_template_columns": null,
            "grid_template_rows": null,
            "height": null,
            "justify_content": null,
            "justify_items": null,
            "left": null,
            "margin": null,
            "max_height": null,
            "max_width": null,
            "min_height": null,
            "min_width": null,
            "object_fit": null,
            "object_position": null,
            "order": null,
            "overflow": null,
            "overflow_x": null,
            "overflow_y": null,
            "padding": null,
            "right": null,
            "top": null,
            "visibility": null,
            "width": null
          }
        },
        "41db3e20324d4ea3837c543fb63882dd": {
          "model_module": "@jupyter-widgets/controls",
          "model_module_version": "1.5.0",
          "model_name": "DescriptionStyleModel",
          "state": {
            "_model_module": "@jupyter-widgets/controls",
            "_model_module_version": "1.5.0",
            "_model_name": "DescriptionStyleModel",
            "_view_count": null,
            "_view_module": "@jupyter-widgets/base",
            "_view_module_version": "1.2.0",
            "_view_name": "StyleView",
            "description_width": ""
          }
        },
        "4b98959b77a940f4b742c690c7e19800": {
          "model_module": "@jupyter-widgets/controls",
          "model_module_version": "1.5.0",
          "model_name": "HBoxModel",
          "state": {
            "_dom_classes": [],
            "_model_module": "@jupyter-widgets/controls",
            "_model_module_version": "1.5.0",
            "_model_name": "HBoxModel",
            "_view_count": null,
            "_view_module": "@jupyter-widgets/controls",
            "_view_module_version": "1.5.0",
            "_view_name": "HBoxView",
            "box_style": "",
            "children": [
              "IPY_MODEL_db0083ded3d54644bc5d778d3185c442",
              "IPY_MODEL_2f5a0da96d3e4e78b7ad73dfa9a676d7",
              "IPY_MODEL_8f03731babbb4832a9215d1068689a10"
            ],
            "layout": "IPY_MODEL_0241b6b0c594488990ea9860778d1c6b"
          }
        },
        "5bb9bada0a67446aad2fc64bbc921948": {
          "model_module": "@jupyter-widgets/base",
          "model_module_version": "1.2.0",
          "model_name": "LayoutModel",
          "state": {
            "_model_module": "@jupyter-widgets/base",
            "_model_module_version": "1.2.0",
            "_model_name": "LayoutModel",
            "_view_count": null,
            "_view_module": "@jupyter-widgets/base",
            "_view_module_version": "1.2.0",
            "_view_name": "LayoutView",
            "align_content": null,
            "align_items": null,
            "align_self": null,
            "border": null,
            "bottom": null,
            "display": null,
            "flex": null,
            "flex_flow": null,
            "grid_area": null,
            "grid_auto_columns": null,
            "grid_auto_flow": null,
            "grid_auto_rows": null,
            "grid_column": null,
            "grid_gap": null,
            "grid_row": null,
            "grid_template_areas": null,
            "grid_template_columns": null,
            "grid_template_rows": null,
            "height": null,
            "justify_content": null,
            "justify_items": null,
            "left": null,
            "margin": null,
            "max_height": null,
            "max_width": null,
            "min_height": null,
            "min_width": null,
            "object_fit": null,
            "object_position": null,
            "order": null,
            "overflow": null,
            "overflow_x": null,
            "overflow_y": null,
            "padding": null,
            "right": null,
            "top": null,
            "visibility": null,
            "width": null
          }
        },
        "5f44c9cb95954e198c8ca923e75af161": {
          "model_module": "@jupyter-widgets/base",
          "model_module_version": "1.2.0",
          "model_name": "LayoutModel",
          "state": {
            "_model_module": "@jupyter-widgets/base",
            "_model_module_version": "1.2.0",
            "_model_name": "LayoutModel",
            "_view_count": null,
            "_view_module": "@jupyter-widgets/base",
            "_view_module_version": "1.2.0",
            "_view_name": "LayoutView",
            "align_content": null,
            "align_items": null,
            "align_self": null,
            "border": null,
            "bottom": null,
            "display": null,
            "flex": null,
            "flex_flow": null,
            "grid_area": null,
            "grid_auto_columns": null,
            "grid_auto_flow": null,
            "grid_auto_rows": null,
            "grid_column": null,
            "grid_gap": null,
            "grid_row": null,
            "grid_template_areas": null,
            "grid_template_columns": null,
            "grid_template_rows": null,
            "height": null,
            "justify_content": null,
            "justify_items": null,
            "left": null,
            "margin": null,
            "max_height": null,
            "max_width": null,
            "min_height": null,
            "min_width": null,
            "object_fit": null,
            "object_position": null,
            "order": null,
            "overflow": null,
            "overflow_x": null,
            "overflow_y": null,
            "padding": null,
            "right": null,
            "top": null,
            "visibility": null,
            "width": null
          }
        },
        "6d46ef8a86be4310960522709be51101": {
          "model_module": "@jupyter-widgets/controls",
          "model_module_version": "1.5.0",
          "model_name": "FloatProgressModel",
          "state": {
            "_dom_classes": [],
            "_model_module": "@jupyter-widgets/controls",
            "_model_module_version": "1.5.0",
            "_model_name": "FloatProgressModel",
            "_view_count": null,
            "_view_module": "@jupyter-widgets/controls",
            "_view_module_version": "1.5.0",
            "_view_name": "ProgressView",
            "bar_style": "success",
            "description": "",
            "description_tooltip": null,
            "layout": "IPY_MODEL_5bb9bada0a67446aad2fc64bbc921948",
            "max": 1,
            "min": 0,
            "orientation": "horizontal",
            "style": "IPY_MODEL_bddd5a21e4c542448a184c7254dc628b",
            "value": 1
          }
        },
        "752336148d9f45b0828ee76db1a9435b": {
          "model_module": "@jupyter-widgets/base",
          "model_module_version": "1.2.0",
          "model_name": "LayoutModel",
          "state": {
            "_model_module": "@jupyter-widgets/base",
            "_model_module_version": "1.2.0",
            "_model_name": "LayoutModel",
            "_view_count": null,
            "_view_module": "@jupyter-widgets/base",
            "_view_module_version": "1.2.0",
            "_view_name": "LayoutView",
            "align_content": null,
            "align_items": null,
            "align_self": null,
            "border": null,
            "bottom": null,
            "display": null,
            "flex": null,
            "flex_flow": null,
            "grid_area": null,
            "grid_auto_columns": null,
            "grid_auto_flow": null,
            "grid_auto_rows": null,
            "grid_column": null,
            "grid_gap": null,
            "grid_row": null,
            "grid_template_areas": null,
            "grid_template_columns": null,
            "grid_template_rows": null,
            "height": null,
            "justify_content": null,
            "justify_items": null,
            "left": null,
            "margin": null,
            "max_height": null,
            "max_width": null,
            "min_height": null,
            "min_width": null,
            "object_fit": null,
            "object_position": null,
            "order": null,
            "overflow": null,
            "overflow_x": null,
            "overflow_y": null,
            "padding": null,
            "right": null,
            "top": null,
            "visibility": null,
            "width": null
          }
        },
        "7c1d092665d14ffcadd44a518aa71051": {
          "model_module": "@jupyter-widgets/base",
          "model_module_version": "1.2.0",
          "model_name": "LayoutModel",
          "state": {
            "_model_module": "@jupyter-widgets/base",
            "_model_module_version": "1.2.0",
            "_model_name": "LayoutModel",
            "_view_count": null,
            "_view_module": "@jupyter-widgets/base",
            "_view_module_version": "1.2.0",
            "_view_name": "LayoutView",
            "align_content": null,
            "align_items": null,
            "align_self": null,
            "border": null,
            "bottom": null,
            "display": null,
            "flex": null,
            "flex_flow": null,
            "grid_area": null,
            "grid_auto_columns": null,
            "grid_auto_flow": null,
            "grid_auto_rows": null,
            "grid_column": null,
            "grid_gap": null,
            "grid_row": null,
            "grid_template_areas": null,
            "grid_template_columns": null,
            "grid_template_rows": null,
            "height": null,
            "justify_content": null,
            "justify_items": null,
            "left": null,
            "margin": null,
            "max_height": null,
            "max_width": null,
            "min_height": null,
            "min_width": null,
            "object_fit": null,
            "object_position": null,
            "order": null,
            "overflow": null,
            "overflow_x": null,
            "overflow_y": null,
            "padding": null,
            "right": null,
            "top": null,
            "visibility": null,
            "width": null
          }
        },
        "8f03731babbb4832a9215d1068689a10": {
          "model_module": "@jupyter-widgets/controls",
          "model_module_version": "1.5.0",
          "model_name": "HTMLModel",
          "state": {
            "_dom_classes": [],
            "_model_module": "@jupyter-widgets/controls",
            "_model_module_version": "1.5.0",
            "_model_name": "HTMLModel",
            "_view_count": null,
            "_view_module": "@jupyter-widgets/controls",
            "_view_module_version": "1.5.0",
            "_view_name": "HTMLView",
            "description": "",
            "description_tooltip": null,
            "layout": "IPY_MODEL_5f44c9cb95954e198c8ca923e75af161",
            "placeholder": "​",
            "style": "IPY_MODEL_d0d6a0b632fc45019b161151a79f4961",
            "value": " 1/1 [00:00&lt;00:00, 26.82it/s]"
          }
        },
        "9bf3de640a7b4434a366d5d18dd753d2": {
          "model_module": "@jupyter-widgets/base",
          "model_module_version": "1.2.0",
          "model_name": "LayoutModel",
          "state": {
            "_model_module": "@jupyter-widgets/base",
            "_model_module_version": "1.2.0",
            "_model_name": "LayoutModel",
            "_view_count": null,
            "_view_module": "@jupyter-widgets/base",
            "_view_module_version": "1.2.0",
            "_view_name": "LayoutView",
            "align_content": null,
            "align_items": null,
            "align_self": null,
            "border": null,
            "bottom": null,
            "display": null,
            "flex": null,
            "flex_flow": null,
            "grid_area": null,
            "grid_auto_columns": null,
            "grid_auto_flow": null,
            "grid_auto_rows": null,
            "grid_column": null,
            "grid_gap": null,
            "grid_row": null,
            "grid_template_areas": null,
            "grid_template_columns": null,
            "grid_template_rows": null,
            "height": null,
            "justify_content": null,
            "justify_items": null,
            "left": null,
            "margin": null,
            "max_height": null,
            "max_width": null,
            "min_height": null,
            "min_width": null,
            "object_fit": null,
            "object_position": null,
            "order": null,
            "overflow": null,
            "overflow_x": null,
            "overflow_y": null,
            "padding": null,
            "right": null,
            "top": null,
            "visibility": null,
            "width": null
          }
        },
        "bddd5a21e4c542448a184c7254dc628b": {
          "model_module": "@jupyter-widgets/controls",
          "model_module_version": "1.5.0",
          "model_name": "ProgressStyleModel",
          "state": {
            "_model_module": "@jupyter-widgets/controls",
            "_model_module_version": "1.5.0",
            "_model_name": "ProgressStyleModel",
            "_view_count": null,
            "_view_module": "@jupyter-widgets/base",
            "_view_module_version": "1.2.0",
            "_view_name": "StyleView",
            "bar_color": null,
            "description_width": ""
          }
        },
        "d0d6a0b632fc45019b161151a79f4961": {
          "model_module": "@jupyter-widgets/controls",
          "model_module_version": "1.5.0",
          "model_name": "DescriptionStyleModel",
          "state": {
            "_model_module": "@jupyter-widgets/controls",
            "_model_module_version": "1.5.0",
            "_model_name": "DescriptionStyleModel",
            "_view_count": null,
            "_view_module": "@jupyter-widgets/base",
            "_view_module_version": "1.2.0",
            "_view_name": "StyleView",
            "description_width": ""
          }
        },
        "d9825ea9de33431790df0711e8ac5a77": {
          "model_module": "@jupyter-widgets/controls",
          "model_module_version": "1.5.0",
          "model_name": "HTMLModel",
          "state": {
            "_dom_classes": [],
            "_model_module": "@jupyter-widgets/controls",
            "_model_module_version": "1.5.0",
            "_model_name": "HTMLModel",
            "_view_count": null,
            "_view_module": "@jupyter-widgets/controls",
            "_view_module_version": "1.5.0",
            "_view_name": "HTMLView",
            "description": "",
            "description_tooltip": null,
            "layout": "IPY_MODEL_9bf3de640a7b4434a366d5d18dd753d2",
            "placeholder": "​",
            "style": "IPY_MODEL_41db3e20324d4ea3837c543fb63882dd",
            "value": "100%"
          }
        },
        "db0083ded3d54644bc5d778d3185c442": {
          "model_module": "@jupyter-widgets/controls",
          "model_module_version": "1.5.0",
          "model_name": "HTMLModel",
          "state": {
            "_dom_classes": [],
            "_model_module": "@jupyter-widgets/controls",
            "_model_module_version": "1.5.0",
            "_model_name": "HTMLModel",
            "_view_count": null,
            "_view_module": "@jupyter-widgets/controls",
            "_view_module_version": "1.5.0",
            "_view_name": "HTMLView",
            "description": "",
            "description_tooltip": null,
            "layout": "IPY_MODEL_f9fca9c9a805428caed89d98a88c7b72",
            "placeholder": "​",
            "style": "IPY_MODEL_1a8c52b4aef849f2946a072837f0377d",
            "value": "100%"
          }
        },
        "de6cb443d02a43b4801279f00b1b2aaa": {
          "model_module": "@jupyter-widgets/controls",
          "model_module_version": "1.5.0",
          "model_name": "HBoxModel",
          "state": {
            "_dom_classes": [],
            "_model_module": "@jupyter-widgets/controls",
            "_model_module_version": "1.5.0",
            "_model_name": "HBoxModel",
            "_view_count": null,
            "_view_module": "@jupyter-widgets/controls",
            "_view_module_version": "1.5.0",
            "_view_name": "HBoxView",
            "box_style": "",
            "children": [
              "IPY_MODEL_d9825ea9de33431790df0711e8ac5a77",
              "IPY_MODEL_6d46ef8a86be4310960522709be51101",
              "IPY_MODEL_33dac95490fb4510bf68b49cb6a0e67c"
            ],
            "layout": "IPY_MODEL_7c1d092665d14ffcadd44a518aa71051"
          }
        },
        "f9fca9c9a805428caed89d98a88c7b72": {
          "model_module": "@jupyter-widgets/base",
          "model_module_version": "1.2.0",
          "model_name": "LayoutModel",
          "state": {
            "_model_module": "@jupyter-widgets/base",
            "_model_module_version": "1.2.0",
            "_model_name": "LayoutModel",
            "_view_count": null,
            "_view_module": "@jupyter-widgets/base",
            "_view_module_version": "1.2.0",
            "_view_name": "LayoutView",
            "align_content": null,
            "align_items": null,
            "align_self": null,
            "border": null,
            "bottom": null,
            "display": null,
            "flex": null,
            "flex_flow": null,
            "grid_area": null,
            "grid_auto_columns": null,
            "grid_auto_flow": null,
            "grid_auto_rows": null,
            "grid_column": null,
            "grid_gap": null,
            "grid_row": null,
            "grid_template_areas": null,
            "grid_template_columns": null,
            "grid_template_rows": null,
            "height": null,
            "justify_content": null,
            "justify_items": null,
            "left": null,
            "margin": null,
            "max_height": null,
            "max_width": null,
            "min_height": null,
            "min_width": null,
            "object_fit": null,
            "object_position": null,
            "order": null,
            "overflow": null,
            "overflow_x": null,
            "overflow_y": null,
            "padding": null,
            "right": null,
            "top": null,
            "visibility": null,
            "width": null
          }
        }
      }
    }
  },
  "nbformat": 4,
  "nbformat_minor": 0
}
